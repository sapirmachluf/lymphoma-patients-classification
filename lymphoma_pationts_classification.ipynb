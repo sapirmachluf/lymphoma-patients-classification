{
 "cells": [
  {
   "cell_type": "markdown",
   "metadata": {},
   "source": [
    "# **imports**"
   ]
  },
  {
   "cell_type": "code",
   "execution_count": 1,
   "metadata": {
    "id": "BiGbRL6eSxVr"
   },
   "outputs": [],
   "source": [
    "import pandas as pd\n",
    "import numpy as np\n",
    "from sklearn.model_selection import train_test_split\n",
    "import seaborn as sns\n",
    "\n",
    "# using classifier chains\n",
    "from skmultilearn.problem_transform import ClassifierChain\n",
    "from sklearn.linear_model import LogisticRegression\n",
    "from sklearn.metrics import accuracy_score\n",
    "# using binary relevance\n",
    "from skmultilearn.problem_transform import BinaryRelevance\n",
    "from sklearn.naive_bayes import GaussianNB\n",
    "\n",
    "# using binary relevance\n",
    "from skmultilearn.problem_transform import BinaryRelevance\n",
    "from sklearn.svm import SVC\n",
    "# using Label Powerset\n",
    "from skmultilearn.problem_transform import LabelPowerset"
   ]
  },
  {
   "cell_type": "code",
   "execution_count": null,
   "metadata": {},
   "outputs": [],
   "source": [
    "\n",
    "#from sklearn.cross_validation import KFold   #For K-fold cross validation\n",
    "from sklearn.model_selection import KFold\n",
    "from sklearn.ensemble import RandomForestClassifier\n",
    "from sklearn.tree import DecisionTreeClassifier, export_graphviz\n",
    "from sklearn import metrics\n",
    "from sklearn.model_selection import cross_val_score\n",
    "\n",
    "from xgboost import XGBClassifier\n",
    "from sklearn.multiclass import OneVsRestClassifier"
   ]
  },
  {
   "cell_type": "markdown",
   "metadata": {
    "id": "X5v1YnuEVYrZ"
   },
   "source": [
    "# **Load the data**"
   ]
  },
  {
   "cell_type": "code",
   "execution_count": null,
   "metadata": {
    "colab": {
     "base_uri": "https://localhost:8080/",
     "height": 502
    },
    "id": "vHi4jXfmTXEV",
    "outputId": "13c69bbf-7f78-4b1f-a326-6d287728acb7",
    "scrolled": true
   },
   "outputs": [],
   "source": [
    "data=pd.read_csv('export.csv')\n",
    "data.info()"
   ]
  },
  {
   "cell_type": "code",
   "execution_count": 4,
   "metadata": {
    "id": "XXGoCrcrWUz_"
   },
   "outputs": [
    {
     "data": {
      "text/plain": [
       "(234082, 181)"
      ]
     },
     "execution_count": 4,
     "metadata": {},
     "output_type": "execute_result"
    }
   ],
   "source": [
    "data.shape"
   ]
  },
  {
   "cell_type": "markdown",
   "metadata": {},
   "source": [
    "# **pre-processing**"
   ]
  },
  {
   "cell_type": "markdown",
   "metadata": {
    "id": "8lcoKHMVc-To"
   },
   "source": [
    "**Sex column**\n",
    "\n",
    "0-male\n",
    "1-feamle"
   ]
  },
  {
   "cell_type": "code",
   "execution_count": 5,
   "metadata": {
    "id": "021YJzpudEph"
   },
   "outputs": [],
   "source": [
    "data['Sex']=data['Sex'].replace(['Male'],0)\n",
    "data['Sex']=data['Sex'].replace(['Female'],1)"
   ]
  },
  {
   "cell_type": "markdown",
   "metadata": {
    "id": "jOWYk23JUkby"
   },
   "source": [
    "**Age column**\n",
    "\n",
    "Removal of all patients under the age of 15"
   ]
  },
  {
   "cell_type": "code",
   "execution_count": 6,
   "metadata": {
    "id": "Khsio-ZvU9WW"
   },
   "outputs": [],
   "source": [
    "data=data.drop(data[data['Age recode with <1 year olds']=='00 years'].index)\n",
    "data=data.drop(data[data['Age recode with <1 year olds']=='01-04 years'].index)\n",
    "data=data.drop(data[data['Age recode with <1 year olds']=='05-09 years'].index)\n",
    "data=data.drop(data[data['Age recode with <1 year olds']=='10-14 years'].index)"
   ]
  },
  {
   "cell_type": "markdown",
   "metadata": {},
   "source": [
    "age- Ordinal Number Encoding"
   ]
  },
  {
   "cell_type": "code",
   "execution_count": 7,
   "metadata": {},
   "outputs": [],
   "source": [
    "ageClassDict =   {   '15-19 years':1,\n",
    "                     '25-29 years':1,\n",
    "                     '30-34 years':1, \n",
    "                     '35-39 years':1,\n",
    "                     '40-44 years':2,\n",
    "                     '45-49 years':2,  \n",
    "                     '50-54 years':3,\n",
    "                     '55-59 years':3,\n",
    "                     '60-64 years':4, \n",
    "                     '65-69 years':4,\n",
    "                     '70-74 years':5,\n",
    "                     '75-79 years':5,  \n",
    "                     '80-84 years':6,\n",
    "                     '85+ years':6        \n",
    "                }\n",
    "data['Age group'] = data['Age recode with <1 year olds'].map(ageClassDict)\n",
    "data=data.drop('Age recode with <1 year olds',axis = 1)\n"
   ]
  },
  {
   "cell_type": "markdown",
   "metadata": {
    "id": "U2aMWa33eUSt"
   },
   "source": [
    "**Year of diagnosis**\n",
    "\n",
    "Removal of all patients diagnosed before 1981 - over 40 years\n",
    "\n",
    "Removal of all patients diagnosed after 2018 - 10 years prediction"
   ]
  },
  {
   "cell_type": "code",
   "execution_count": 8,
   "metadata": {
    "id": "e-YWy56leXVe"
   },
   "outputs": [],
   "source": [
    "data=data.drop(data[data['Year of diagnosis']<1981].index)\n",
    "data=data.drop(data[data['Year of diagnosis']>2008].index)"
   ]
  },
  {
   "cell_type": "markdown",
   "metadata": {},
   "source": [
    "**Race recode column**\n",
    "\n",
    "We replaced missing values with the most common value 83% - white"
   ]
  },
  {
   "cell_type": "code",
   "execution_count": 9,
   "metadata": {},
   "outputs": [],
   "source": [
    "data['Race recode (White, Black, Other)']=data['Race recode (White, Black, Other)'].replace(['Unknown'],'White')\n",
    "raceClassDict =   {  'White':0,\n",
    "                     'Black':1,\n",
    "                     'Other (American Indian/AK Native, Asian/Pacific Islander)':2        \n",
    "                }\n",
    "data['Race'] = data['Race recode (White, Black, Other)'].map(raceClassDict)\n",
    "data=data.drop('Race recode (White, Black, Other)',axis = 1)"
   ]
  },
  {
   "cell_type": "markdown",
   "metadata": {
    "id": "ga--lUXOfghx"
   },
   "source": [
    "**Median household income column**\n",
    "\n",
    "According to studies we read, the average wage in the United States in the 1980s was $ 21,020\n",
    "\n",
    "The rest of the supplements are based on the OECD index\n",
    "\n",
    "\n"
   ]
  },
  {
   "cell_type": "code",
   "execution_count": 10,
   "metadata": {
    "id": "jmEbFOLCijYe"
   },
   "outputs": [],
   "source": [
    "data.loc[(data['Median household income inflation adj to 2019']=='Unknown/missing/no match/Not 1990-2018')&(data['Year of diagnosis']<1990),'Median household income inflation adj to 2019']='< $35,000'\n",
    "data.loc[(data['Median household income inflation adj to 2019']=='Unknown/missing/no match/Not 1990-2018')&(data['Year of diagnosis']<1997),'Median household income inflation adj to 2019']='$45,000 - $49,999'\n",
    "data.loc[(data['Median household income inflation adj to 2019']=='Unknown/missing/no match/Not 1990-2018')&(data['Year of diagnosis']<2000),'Median household income inflation adj to 2019']='$50,000 - $54,999'\n",
    "data.loc[(data['Median household income inflation adj to 2019']=='Unknown/missing/no match/Not 1990-2018')&(data['Year of diagnosis']<2007),'Median household income inflation adj to 2019']='$55,000 - $59,999'\n",
    "data.loc[(data['Median household income inflation adj to 2019']=='Unknown/missing/no match/Not 1990-2018')&(data['Year of diagnosis']<2019),'Median household income inflation adj to 2019']='$60,000 - $64,999'"
   ]
  },
  {
   "cell_type": "code",
   "execution_count": 11,
   "metadata": {},
   "outputs": [],
   "source": [
    "incomeClassDict =   { '< $35,000':0,\n",
    "                     '$35,000 - $39,999':1,\n",
    "                     '$40,000 - $44,999':2, \n",
    "                     '$45,000 - $49,999':3,\n",
    "                     '$50,000 - $54,999':4,\n",
    "                     '$55,000 - $59,999':5,  \n",
    "                     '$60,000 - $64,999':6,\n",
    "                     '$65,000 - $69,999':7,\n",
    "                     '$70,000 - $74,999':8, \n",
    "                     '$75,000+':9\n",
    "                         \n",
    "                }\n",
    "data['income'] = data['Median household income inflation adj to 2019'].map(incomeClassDict)\n",
    "data=data.drop('Median household income inflation adj to 2019',axis = 1)"
   ]
  },
  {
   "cell_type": "markdown",
   "metadata": {
    "id": "4F69VqwioZBc"
   },
   "source": [
    " **alive or dead**\n",
    " \n",
    " Survival months flag-drop column\n",
    " \n",
    " This column directly affects the variable we want to predict so we will remove it."
   ]
  },
  {
   "cell_type": "code",
   "execution_count": null,
   "metadata": {
    "id": "dtx9PQYIoX8u"
   },
   "outputs": [],
   "source": [
    "data=data.drop('Survival months flag',1)"
   ]
  },
  {
   "cell_type": "markdown",
   "metadata": {},
   "source": [
    "This column directly affects the variable we want to predict so we will remove it."
   ]
  },
  {
   "cell_type": "code",
   "execution_count": null,
   "metadata": {},
   "outputs": [],
   "source": [
    "data=data.drop('Vital status recode (study cutoff used)',1)\n",
    "data=data.drop('SEER other cause of death classification',1)\n",
    "data=data.drop('SEER cause-specific death classification',1)\n",
    "data=data.drop('COD to site rec KM',1)\n",
    "data=data.drop('COD to site recode',1)"
   ]
  },
  {
   "cell_type": "markdown",
   "metadata": {
    "id": "5B8SVfLssf56"
   },
   "source": [
    "**histology**\n",
    "\n",
    "These columns are repetitive so we will remove them and leave only one column of this type\n",
    "\n",
    "\n",
    "NHL - Nodal         0\n",
    "NHL - Extranodal    1"
   ]
  },
  {
   "cell_type": "code",
   "execution_count": null,
   "metadata": {
    "id": "vHp2Ag3_syHc"
   },
   "outputs": [],
   "source": [
    "data=data.drop('Site - mal+ins (most detail)',1)\n",
    "data=data.drop('Site recode ICD-O-3/WHO 2008 (for SIRs)',1)\n",
    "data=data.drop('Site - mal+ins (mid detail)',1)\n",
    "data=data.drop('Site - malignant (most detail)',1)\n",
    "data=data.drop('Site - malignant (mid detail)',1)\n",
    "data=data.drop('AYA site recode/WHO 2008',1)\n",
    "data=data.drop('ICCC site recode ICD-O-3/WHO 2008',1)\n",
    "data=data.drop('Histology recode - broad groupings',1)\n",
    "\n",
    "data=data.drop('ICCC site recode 3rd edition/IARC 2017',1)\n",
    "data=data.drop('ICCC site rec extended ICD-O-3/WHO 2008',1)\n",
    "data=data.drop('ICCC site recode extended 3rd edition/IARC 2017',1)\n",
    "\n",
    "data=data.drop('Site recode - rare tumors',1)\n",
    "data=data.drop('CS Schema - AJCC 6th Edition',1)\n",
    "data=data.drop('AYA site recode 2020 Revision',1)\n",
    "data=data.drop('Primary Site - labeled',1)\n",
    "data=data.drop('Histologic Type ICD-O-3',1)\n"
   ]
  },
  {
   "cell_type": "markdown",
   "metadata": {},
   "source": [
    "Hodgkin's lymphoma removal"
   ]
  },
  {
   "cell_type": "code",
   "execution_count": 15,
   "metadata": {},
   "outputs": [],
   "source": [
    "data=data.drop(data[data['Site recode ICD-O-3/WHO 2008']=='Hodgkin - Extranodal'].index)\n",
    "data=data.drop(data[data['Site recode ICD-O-3/WHO 2008']=='Hodgkin - Nodal'].index)"
   ]
  },
  {
   "cell_type": "markdown",
   "metadata": {},
   "source": [
    "We were left with only two types of non-Hodgkin's lymphoma"
   ]
  },
  {
   "cell_type": "code",
   "execution_count": 16,
   "metadata": {},
   "outputs": [],
   "source": [
    "siteClassDict =   { 'NHL - Nodal':0,\n",
    "                     'NHL - Extranodal':1     \n",
    "                }\n",
    "data['Site'] = data['Site recode ICD-O-3/WHO 2008'].map(siteClassDict)\n",
    "data=data.drop('Site recode ICD-O-3/WHO 2008',axis = 1)"
   ]
  },
  {
   "cell_type": "markdown",
   "metadata": {},
   "source": [
    "**TNM record**"
   ]
  },
  {
   "cell_type": "code",
   "execution_count": 17,
   "metadata": {},
   "outputs": [],
   "source": [
    "tnmClassDict =   { 'Lymphoma':0,\n",
    "                    'MycosisFungoides':1,\n",
    "                    'LymphomaOcularAdnexa':2    \n",
    "                }\n",
    "data['TNM'] = data['TNM 7/CS v0204+ Schema recode'].map(tnmClassDict)\n",
    "data=data.drop('TNM 7/CS v0204+ Schema recode',axis = 1)"
   ]
  },
  {
   "cell_type": "markdown",
   "metadata": {
    "id": "9XiiDQuo3UP8"
   },
   "source": [
    "**single value and blanks**\n",
    "\n",
    "In our dataset there are a lot of blanks or columns with a single value."
   ]
  },
  {
   "cell_type": "code",
   "execution_count": null,
   "metadata": {
    "id": "89NypxCF3Pp5"
   },
   "outputs": [],
   "source": [
    "data=data.drop('Behavior code ICD-O-3',1)\n",
    "data=data.drop('Grade Clinical (2018+)',1)\n",
    "data=data.drop('Grade Pathological (2018+)',1)\n",
    "data=data.drop('Schema ID (2018+)',1)\n",
    "data=data.drop('AJCC ID (2018+)',1)\n",
    "data=data.drop('SEER historic stage A (1973-2015)',1)\n",
    "data=data.drop('AFP Post-Orchiectomy Lab Value Recode (2010+)',1)\n",
    "data=data.drop('AFP Pretreatment Interpretation Recode (2010+)',1)\n",
    "data=data.drop('Breslow Thickness Recode (2010+)',1)\n",
    "data=data.drop('CA-125 Pretreatment Interpretation Recode (2010+)',1)\n",
    "data=data.drop('CEA Pretreatment Interpretation Recode (2010+)',1)\n",
    "data=data.drop('Fibrosis Score Recode (2010+)',1)\n",
    "data=data.drop('Gestational Trophoblastic Prognostic Scoring Index Recode (2010+)',1)\n",
    "data=data.drop('Gleason Patterns Clinical Recode (2010+)',1)\n",
    "data=data.drop('Gleason Patterns Pathological Recode (2010+)',1)\n",
    "data=data.drop('Gleason Score Clinical Recode (2010+)',1)\n",
    "data=data.drop('Gleason Score Pathological Recode (2010+)',1)\n",
    "data=data.drop('hCG Post-Orchiectomy Range Recode (2010+)',1)\n",
    "data=data.drop('Invasion Beyond Capsule Recode (2010+)',1)\n",
    "data=data.drop('LDH Post-Orchiectomy Range Recode (2010+)',1)\n",
    "data=data.drop('LDH Pretreatment Level Recode (2010+)',1)\n",
    "data=data.drop('LN Head and Neck Levels I-III Recode (2010+)',1)\n",
    "data=data.drop('LN Head and Neck Levels IV-V Recode (2010+)',1)\n",
    "data=data.drop('LN Head and Neck Levels VI-VII Recode (2010+)',1)\n",
    "\n",
    "data=data.drop('LN Head and Neck Other Recode (2010+)',1)\n",
    "data=data.drop('LN Positive Axillary Level I-II Recode (2010+)',1)\n",
    "data=data.drop('Lymph Node Size Recode (2010+)',1)\n",
    "data=data.drop('Measured Basal Diameter Recode (2010+)',1)\n",
    "data=data.drop('Measured Thickness Recode (2010+)',1)\n",
    "data=data.drop('Mitotic Rate Melanoma Recode (2010+)',1)\n",
    "data=data.drop('Number of Cores Positive Recode (2010+)',1)\n",
    "data=data.drop('Number of Cores Examined Recode (2010+)',1)\n",
    "data=data.drop('Number of Examined Para-Aortic Nodes Recode (2010+)',1)\n",
    "data=data.drop('Number of Examined Pelvic Nodes Recode (2010+)',1)\n",
    "data=data.drop('Number of Positive Para-Aortic Nodes Recode (2010+)',1)\n",
    "data=data.drop('Number of Positive Pelvic Nodes Recode (2010+)',1)\n",
    "data=data.drop('Perineural Invasion Recode (2010+)',1)\n",
    "data=data.drop('Peritoneal Cytology Recode (2010+)',1)\n",
    "data=data.drop('Pleural Effusion Recode (2010+)',1)\n",
    "data=data.drop('PSA Lab Value Recode (2010+)',1)\n",
    "data=data.drop('Residual Tumor Volume Post Cytoreduction Recode (2010+)',1)\n",
    "data=data.drop('Sarcomatoid Features Recode (2010+)',1)\n",
    "data=data.drop('Separate Tumor Nodules Ipsilateral Lung Recode (2010+)',1)\n",
    "data=data.drop('Tumor Deposits Recode (2010+)',1)\n",
    "data=data.drop('Ulceration Recode (2010+)',1)\n",
    "data=data.drop('SEER Brain and CNS Recode',1)\n",
    "data=data.drop('Visceral and Parietal Pleural Invasion Recode (2010+)',1)\n",
    "data=data.drop('EOD Primary Tumor (2018+)',1)\n",
    "data=data.drop('EOD Regional Nodes (2018+)',1)\n",
    "\n",
    "data=data.drop('EOD Mets (2018+)',1)\n",
    "data=data.drop('Tumor Size Summary (2016+)',1)\n",
    "data=data.drop('Mets at DX-Distant LN (2016+)',1)\n",
    "data=data.drop('Mets at DX-Other (2016+)',1)\n",
    "data=data.drop('Breast Subtype (2010+)',1)\n",
    "\n",
    "data=data.drop('ER Status Recode Breast Cancer (1990+)',1)\n",
    "data=data.drop('PR Status Recode Breast Cancer (1990+)',1)\n",
    "data=data.drop('Derived HER2 Recode (2010+)',1)\n",
    "data=data.drop('Lymph-vascular Invasion (2004+ varying by schema)',1)\n",
    "data=data.drop('CS site-specific factor 5 (2004-2017 varying by schema)',1)\n",
    "\n",
    "data=data.drop('CS site-specific factor 6 (2004-2017 varying by schema)',1)\n",
    "data=data.drop('CS site-specific factor 7 (2004-2017 varying by schema)',1)\n",
    "data=data.drop('CS site-specific factor 8 (2004-2017 varying by schema)',1)\n",
    "data=data.drop('CS site-specific factor 9 (2004-2017 varying by schema)',1)\n",
    "data=data.drop('CS site-specific factor 10 (2004-2017 varying by schema)',1)\n",
    "\n",
    "data=data.drop('CS site-specific factor 11 (2004-2017 varying by schema)',1)\n",
    "data=data.drop('CS site-specific factor 12 (2004-2017 varying by schema)',1)\n",
    "data=data.drop('CS site-specific factor 13 (2004-2017 varying by schema)',1)\n",
    "data=data.drop('CS site-specific factor 15 (2004-2017 varying by schema)',1)\n",
    "\n",
    "data=data.drop('CS site-specific factor 16 (2004-2017 varying by schema)',1)\n",
    "data=data.drop('CS site-specific factor 25 (2004-2017 varying by schema)',1)\n",
    "data=data.drop('Behavior code ICD-O-2',1)\n",
    "data=data.drop('Site - mal+ins (least detail)',1)\n",
    "data=data.drop('Site - malignant (least detail)',1)\n"
   ]
  },
  {
   "cell_type": "code",
   "execution_count": null,
   "metadata": {
    "id": "o8DZlobPDCga"
   },
   "outputs": [],
   "source": [
    "data=data.drop('EOD Schema ID Recode (2010+)',1)\n",
    "data=data.drop('Combined Summary Stage (2004+)',1)\n",
    "data=data.drop('Summary stage 2000 (1998-2017)',1)\n",
    "data=data.drop('SEER Combined Summary Stage 2000 (2004-2017)',1)\n",
    "data=data.drop('RX Summ--Surg Prim Site (1998+)',1)\n",
    "\n",
    "data=data.drop('RX Summ--Scope Reg LN Sur (2003+)',1)\n",
    "data=data.drop('RX Summ--Surg Oth Reg/Dis (2003+)',1)\n",
    "data=data.drop('Scope of reg lymph nd surg (1998-2002)',1)\n",
    "data=data.drop('RX Summ--Reg LN Examined (1998-2002)',1)\n",
    "data=data.drop('Surgery of oth reg/dis sites (1998-2002)',1)\n",
    "\n",
    "data=data.drop('Site specific surgery (1973-1997 varying detail by year and site)',1)\n",
    "data=data.drop('B Symptoms Recode (2010+)',1)\n",
    "data=data.drop('Peripheral Blood Involvement Recode (2010+)',1)\n",
    "data=data.drop('SEER Combined Mets at DX-bone (2010+)',1)\n",
    "data=data.drop('SEER Combined Mets at DX-brain (2010+)',1)\n",
    "\n",
    "data=data.drop('SEER Combined Mets at DX-liver (2010+)',1)\n",
    "data=data.drop('SEER Combined Mets at DX-lung (2010+)',1)\n",
    "data=data.drop('CS tumor size (2004-2015)',1)\n",
    "data=data.drop('CS extension (2004-2015)',1)\n",
    "data=data.drop('CS lymph nodes (2004-2015)',1)\n",
    "\n",
    "data=data.drop('CS mets at dx (2004-2015)',1)\n",
    "data=data.drop('CS Tumor Size/Ext Eval (2004-2015)',1)\n",
    "data=data.drop('CS Reg Node Eval (2004-2015)',1)\n",
    "data=data.drop('CS Mets Eval (2004-2015)',1)\n",
    "data=data.drop('CS version input current (2004-2015)',1)\n",
    "\n",
    "data=data.drop('CS version input original (2004-2015)',1)\n",
    "data=data.drop('CS version derived (2004-2015)',1)\n",
    "data=data.drop('CS site-specific factor 1 (2004-2017 varying by schema)',1)\n",
    "data=data.drop('CS site-specific factor 2 (2004-2017 varying by schema)',1)\n",
    "data=data.drop('CS site-specific factor 3 (2004-2017 varying by schema)',1)\n",
    "\n",
    "data=data.drop('CS site-specific factor 4 (2004-2017 varying by schema)',1)\n",
    "data=data.drop('Regional nodes examined (1988+)',1)\n",
    "data=data.drop('Regional nodes positive (1988+)',1)\n",
    "\n",
    "\n"
   ]
  },
  {
   "cell_type": "code",
   "execution_count": null,
   "metadata": {
    "id": "5ZPTvDnYAXaA"
   },
   "outputs": [],
   "source": [
    "data=data.drop('SS seq # 1975+ - mal+ins (most detail)',1)\n",
    "data=data.drop('SS seq # 1992+ - mal+ins (most detail)',1)\n",
    "data=data.drop('SS seq # 2000+ - mal+ins (most detail)',1)\n",
    "\n",
    "data=data.drop('SS seq # - mal (most detail)',1)\n",
    "data=data.drop('SS seq # 1975+ - mal (most detail)',1)\n",
    "data=data.drop('SS seq # 1992+ - mal (most detail)',1)\n",
    "data=data.drop('SS seq # 2000+ - mal (most detail)',1)\n",
    "\n",
    "data=data.drop('SS seq # 1975+ - mal+ins (mid detail)',1)\n",
    "data=data.drop('SS seq # 1992+ - mal+ins (mid detail)',1)\n",
    "data=data.drop('SS seq # 2000+ - mal+ins (mid detail)',1)\n",
    "\n",
    "data=data.drop('SS seq # - mal (mid detail)',1)\n",
    "data=data.drop('SS seq # 1975+ - mal (mid detail)',1)\n",
    "data=data.drop('SS seq # 1992+ - mal (mid detail)',1)\n",
    "data=data.drop('SS seq # 2000+ - mal (mid detail)',1)\n",
    "\n",
    "data=data.drop('SS seq # 1975+ - mal+ins (least detail)',1)\n",
    "data=data.drop('SS seq # 1992+ - mal+ins (least detail)',1)\n",
    "data=data.drop('SS seq # 2000+ - mal+ins (least detail)',1)\n",
    "\n",
    "data=data.drop('SS seq # - mal (least detail)',1)\n",
    "data=data.drop('SS seq # 1975+ - mal (least detail)',1)\n",
    "data=data.drop('SS seq # 1992+ - mal (least detail)',1)\n",
    "data=data.drop('SS seq # 2000+ - mal (least detail)',1)\n",
    "\n",
    "data=data.drop('Lymphoid neoplasm recode 2021 Revision',1)\n",
    "\n",
    "data=data.drop('Behavior recode for analysis',1)\n",
    "data=data.drop('Primary by international rules',1)\n",
    "data=data.drop('SS seq # - mal+ins (most detail)',1)\n",
    "data=data.drop('SS seq # - mal+ins (mid detail)',1)\n",
    "data=data.drop('SS seq # - mal+ins (least detail)',1)"
   ]
  },
  {
   "cell_type": "markdown",
   "metadata": {
    "id": "Mra9zzBxFKt8"
   },
   "source": [
    "**record numbers-** \n",
    "\n",
    "Conversion to binary value, 1 or more than 1 "
   ]
  },
  {
   "cell_type": "code",
   "execution_count": null,
   "metadata": {
    "id": "Ynk_Jxq-FgjE"
   },
   "outputs": [],
   "source": [
    "data.loc[(data['Record number recode']>1),'Record number recode']=0\n",
    "data['Record number']=data['Record number recode']\n",
    "data=data.drop('Record number recode',1)"
   ]
  },
  {
   "cell_type": "markdown",
   "metadata": {},
   "source": [
    "**other columns**\n",
    "\n",
    "Removing columns that have no meaning for us\n",
    "\n",
    "After consultation with the lecturer"
   ]
  },
  {
   "cell_type": "code",
   "execution_count": null,
   "metadata": {
    "id": "mpQhAqXOSiNo"
   },
   "outputs": [],
   "source": [
    "data=data.drop('Laterality',1)\n",
    "data=data.drop('Histology recode - Brain groupings',1)\n",
    "data=data.drop('Total number of benign/borderline tumors for patient',1)\n",
    "data=data.drop('TNM 7/CS v0204+ Schema (thru 2017)',1)\n",
    "data=data.drop('ICD-O-3 Hist/behav, malignant',1)\n",
    "data=data.drop('Grade (thru 2017)',1)\n",
    "data=data.drop('Total number of in situ/malignant tumors for patient',1)\n",
    "data=data.drop('Rural-Urban Continuum Code',1)\n",
    "data=data.drop('Lymphoid neoplasm recode 2020 Revision',1)\n",
    "data=data.drop('Lymphoma subtype recode/WHO 2008 (thru 2017)',1)\n"
   ]
  },
  {
   "cell_type": "code",
   "execution_count": 23,
   "metadata": {
    "id": "x2PaHihvVVqL"
   },
   "outputs": [
    {
     "data": {
      "text/plain": [
       "(122486, 16)"
      ]
     },
     "execution_count": 23,
     "metadata": {},
     "output_type": "execute_result"
    }
   ],
   "source": [
    "data.shape"
   ]
  },
  {
   "cell_type": "markdown",
   "metadata": {},
   "source": [
    "**medical data**\n",
    "\n",
    "Diagnostic Confirmation- unkown value replaced with the most common value- 'Positive histology'"
   ]
  },
  {
   "cell_type": "code",
   "execution_count": 24,
   "metadata": {},
   "outputs": [],
   "source": [
    "data['Diagnostic Confirmation']=data['Diagnostic Confirmation'].replace(['Unknown'],'Positive histology')"
   ]
  },
  {
   "cell_type": "code",
   "execution_count": 25,
   "metadata": {},
   "outputs": [],
   "source": [
    "diagnosticClassDict =   { 'Positive histology':0,\n",
    "                     'Pos hist AND immunophenotyping AND/OR pos genetic studies':1,\n",
    "                     'Positive exfoliative cytology, no positive histology':2, \n",
    "                     'Radiography without microscopic confirm':3,\n",
    "                     'Clinical diagnosis only':4,\n",
    "                     'Positive laboratory test/marker study':5,  \n",
    "                     'Positive microscopic confirm, method not specified':6,\n",
    "                     'Direct visualization without microscopic confirmation':7,\n",
    "\n",
    "                }\n",
    "data['Diagnostic Confirmation'] = data['Diagnostic Confirmation'].map(diagnosticClassDict)\n"
   ]
  },
  {
   "cell_type": "markdown",
   "metadata": {
    "id": "z-c8dDQph-UQ"
   },
   "source": [
    "**ICD-O-3 Hist/behav**\n",
    "\n",
    "Removal of verbal detail"
   ]
  },
  {
   "cell_type": "code",
   "execution_count": null,
   "metadata": {
    "id": "Ylra3RgBiiaD"
   },
   "outputs": [],
   "source": [
    "data['ICD-O-3 Hist/behav'] = data['ICD-O-3 Hist/behav'].str.split('/').str[0]\n",
    "data['ICD-O-3 Hist/behav']=pd.to_numeric(data['ICD-O-3 Hist/behav'])\n",
    "data['Hist/behav']= data['ICD-O-3 Hist/behav']\n",
    "data=data.drop('ICD-O-3 Hist/behav',1)\n"
   ]
  },
  {
   "cell_type": "markdown",
   "metadata": {
    "id": "8NJ9v-_jjdlD"
   },
   "source": [
    "**Reason no cancer-directed surgery**\n",
    "\n",
    "Not recommended  \n",
    "\n",
    "Surgery performed \n",
    "\n",
    "Recommended but not performed"
   ]
  },
  {
   "cell_type": "code",
   "execution_count": 27,
   "metadata": {},
   "outputs": [],
   "source": [
    "data = data.drop(data[data['Reason no cancer-directed surgery']=='Recommended, unknown if performed'].index)"
   ]
  },
  {
   "cell_type": "code",
   "execution_count": null,
   "metadata": {},
   "outputs": [],
   "source": [
    "surgeryClassDict =   {'Not recommended':0,\n",
    "                     'Surgery performed':1,\n",
    "                     'Recommended but not performed, unknown reason':2, \n",
    "                     'Unknown; death certificate; or autopsy only (2003+)':0,\n",
    "                     'Not recommended, contraindicated due to other cond; autopsy only (1973-2002)':0,\n",
    "                     'Recommended but not performed, patient refused':2,  \n",
    "                     'Not performed, patient died prior to recommended surgery':2\n",
    "\n",
    "                }\n",
    "data['surgery'] = data['Reason no cancer-directed surgery'].map(surgeryClassDict)\n",
    "data=data.drop('Reason no cancer-directed surgery',1)"
   ]
  },
  {
   "cell_type": "markdown",
   "metadata": {
    "id": "y8G2HpddlI6e"
   },
   "source": [
    "**Sequence number**"
   ]
  },
  {
   "cell_type": "code",
   "execution_count": 29,
   "metadata": {},
   "outputs": [],
   "source": [
    "data['Sequence number']=data['Sequence number'].replace(['Unknown seq num - federally required in situ or malig tumors'],'One primary only')"
   ]
  },
  {
   "cell_type": "code",
   "execution_count": 30,
   "metadata": {},
   "outputs": [],
   "source": [
    "SequenceClassDict =   { 'One primary only':0,\n",
    "                     '1st of 2 or more primaries':1,\n",
    "                     '2nd of 2 or more primaries':2, \n",
    "                     '3rd of 3 or more primaries':3,\n",
    "                     '4th of 4 or more primaries':4,\n",
    "                     '5th of 5 or more primaries ':4,  \n",
    "                     '6th of 6 or more primaries':4,\n",
    "                     '7th of 7 or more primaries':4,\n",
    "\n",
    "                }\n",
    "data['Sequence number'] = data['Sequence number'].map(SequenceClassDict)\n"
   ]
  },
  {
   "cell_type": "markdown",
   "metadata": {
    "id": "pbiBAoMDmknW"
   },
   "source": [
    "**First malignant primary indicator**\n"
   ]
  },
  {
   "cell_type": "code",
   "execution_count": null,
   "metadata": {
    "id": "MGTYlmhGmutB"
   },
   "outputs": [],
   "source": [
    "data['First malignant primary indicator']=data['First malignant primary indicator'].replace(['Yes'],0)\n",
    "data['First malignant primary indicator']=data['First malignant primary indicator'].replace(['No'],1)\n",
    "data['First malignant']=data['First malignant primary indicator']\n",
    "data=data.drop('First malignant primary indicator',1)"
   ]
  },
  {
   "cell_type": "markdown",
   "metadata": {},
   "source": [
    "**Survival months**"
   ]
  },
  {
   "cell_type": "code",
   "execution_count": null,
   "metadata": {},
   "outputs": [],
   "source": [
    "data=data.drop(data[data['Survival months']=='Unknown'].index)\n",
    "\n",
    "data['Survival months']=pd.to_numeric(data['Survival months'])\n",
    "data.loc[data['Survival months'] < 12, 'Survival months category'] =0\n",
    "data.loc[(data['Survival months']>=12)&(data['Survival months']<60),'Survival months category']=1\n",
    "data.loc[(data['Survival months']>=60)&(data['Survival months']<120),'Survival months category']=2\n",
    "data.loc[data['Survival months'] >= 120, 'Survival months category'] = 3\n",
    "\n",
    "\n",
    "data=data.drop('Survival months',1)"
   ]
  },
  {
   "cell_type": "code",
   "execution_count": 33,
   "metadata": {},
   "outputs": [],
   "source": [
    "data=data.dropna()"
   ]
  },
  {
   "cell_type": "markdown",
   "metadata": {},
   "source": [
    "**summery**"
   ]
  },
  {
   "cell_type": "code",
   "execution_count": 34,
   "metadata": {},
   "outputs": [
    {
     "data": {
      "text/html": [
       "<div>\n",
       "<style scoped>\n",
       "    .dataframe tbody tr th:only-of-type {\n",
       "        vertical-align: middle;\n",
       "    }\n",
       "\n",
       "    .dataframe tbody tr th {\n",
       "        vertical-align: top;\n",
       "    }\n",
       "\n",
       "    .dataframe thead th {\n",
       "        text-align: right;\n",
       "    }\n",
       "</style>\n",
       "<table border=\"1\" class=\"dataframe\">\n",
       "  <thead>\n",
       "    <tr style=\"text-align: right;\">\n",
       "      <th></th>\n",
       "      <th>Sex</th>\n",
       "      <th>Year of diagnosis</th>\n",
       "      <th>Primary Site</th>\n",
       "      <th>Diagnostic Confirmation</th>\n",
       "      <th>Sequence number</th>\n",
       "      <th>Histology ICD-O-2</th>\n",
       "      <th>Age group</th>\n",
       "      <th>Race</th>\n",
       "      <th>income</th>\n",
       "      <th>Site</th>\n",
       "      <th>TNM</th>\n",
       "      <th>Record number</th>\n",
       "      <th>Hist/behav</th>\n",
       "      <th>surgery</th>\n",
       "      <th>First malignant</th>\n",
       "      <th>Survival months category</th>\n",
       "    </tr>\n",
       "  </thead>\n",
       "  <tbody>\n",
       "    <tr>\n",
       "      <th>0</th>\n",
       "      <td>1</td>\n",
       "      <td>2003</td>\n",
       "      <td>444</td>\n",
       "      <td>0</td>\n",
       "      <td>3.0</td>\n",
       "      <td>9591</td>\n",
       "      <td>5.0</td>\n",
       "      <td>0</td>\n",
       "      <td>9</td>\n",
       "      <td>1</td>\n",
       "      <td>0.0</td>\n",
       "      <td>0</td>\n",
       "      <td>9591</td>\n",
       "      <td>0</td>\n",
       "      <td>1</td>\n",
       "      <td>1.0</td>\n",
       "    </tr>\n",
       "  </tbody>\n",
       "</table>\n",
       "</div>"
      ],
      "text/plain": [
       "   Sex  Year of diagnosis  Primary Site  Diagnostic Confirmation  \\\n",
       "0    1               2003           444                        0   \n",
       "\n",
       "   Sequence number  Histology ICD-O-2  Age group  Race  income  Site  TNM  \\\n",
       "0              3.0               9591        5.0     0       9     1  0.0   \n",
       "\n",
       "   Record number  Hist/behav  surgery  First malignant  \\\n",
       "0              0        9591        0                1   \n",
       "\n",
       "   Survival months category  \n",
       "0                       1.0  "
      ]
     },
     "execution_count": 34,
     "metadata": {},
     "output_type": "execute_result"
    }
   ],
   "source": [
    "data.head(1)"
   ]
  },
  {
   "cell_type": "code",
   "execution_count": 35,
   "metadata": {},
   "outputs": [
    {
     "name": "stdout",
     "output_type": "stream",
     "text": [
      "<class 'pandas.core.frame.DataFrame'>\n",
      "Int64Index: 119762 entries, 0 to 234070\n",
      "Data columns (total 16 columns):\n",
      " #   Column                    Non-Null Count   Dtype  \n",
      "---  ------                    --------------   -----  \n",
      " 0   Sex                       119762 non-null  int64  \n",
      " 1   Year of diagnosis         119762 non-null  int64  \n",
      " 2   Primary Site              119762 non-null  int64  \n",
      " 3   Diagnostic Confirmation   119762 non-null  int64  \n",
      " 4   Sequence number           119762 non-null  float64\n",
      " 5   Histology ICD-O-2         119762 non-null  int64  \n",
      " 6   Age group                 119762 non-null  float64\n",
      " 7   Race                      119762 non-null  int64  \n",
      " 8   income                    119762 non-null  int64  \n",
      " 9   Site                      119762 non-null  int64  \n",
      " 10  TNM                       119762 non-null  float64\n",
      " 11  Record number             119762 non-null  int64  \n",
      " 12  Hist/behav                119762 non-null  int64  \n",
      " 13  surgery                   119762 non-null  int64  \n",
      " 14  First malignant           119762 non-null  int64  \n",
      " 15  Survival months category  119762 non-null  float64\n",
      "dtypes: float64(4), int64(12)\n",
      "memory usage: 15.5 MB\n"
     ]
    }
   ],
   "source": [
    "data.info()"
   ]
  },
  {
   "cell_type": "code",
   "execution_count": 36,
   "metadata": {},
   "outputs": [
    {
     "data": {
      "text/html": [
       "<div>\n",
       "<style scoped>\n",
       "    .dataframe tbody tr th:only-of-type {\n",
       "        vertical-align: middle;\n",
       "    }\n",
       "\n",
       "    .dataframe tbody tr th {\n",
       "        vertical-align: top;\n",
       "    }\n",
       "\n",
       "    .dataframe thead th {\n",
       "        text-align: right;\n",
       "    }\n",
       "</style>\n",
       "<table border=\"1\" class=\"dataframe\">\n",
       "  <thead>\n",
       "    <tr style=\"text-align: right;\">\n",
       "      <th></th>\n",
       "      <th>Sex</th>\n",
       "      <th>Year of diagnosis</th>\n",
       "      <th>Primary Site</th>\n",
       "      <th>Diagnostic Confirmation</th>\n",
       "      <th>Sequence number</th>\n",
       "      <th>Histology ICD-O-2</th>\n",
       "      <th>Age group</th>\n",
       "      <th>Race</th>\n",
       "      <th>income</th>\n",
       "      <th>Site</th>\n",
       "      <th>TNM</th>\n",
       "      <th>Record number</th>\n",
       "      <th>Hist/behav</th>\n",
       "      <th>surgery</th>\n",
       "      <th>First malignant</th>\n",
       "      <th>Survival months category</th>\n",
       "    </tr>\n",
       "  </thead>\n",
       "  <tbody>\n",
       "    <tr>\n",
       "      <th>count</th>\n",
       "      <td>119762.000000</td>\n",
       "      <td>119762.000000</td>\n",
       "      <td>119762.000000</td>\n",
       "      <td>119762.000000</td>\n",
       "      <td>119762.000000</td>\n",
       "      <td>119762.000000</td>\n",
       "      <td>119762.000000</td>\n",
       "      <td>119762.000000</td>\n",
       "      <td>119762.000000</td>\n",
       "      <td>119762.000000</td>\n",
       "      <td>119762.000000</td>\n",
       "      <td>119762.000000</td>\n",
       "      <td>119762.000000</td>\n",
       "      <td>119762.000000</td>\n",
       "      <td>119762.000000</td>\n",
       "      <td>119762.000000</td>\n",
       "    </tr>\n",
       "    <tr>\n",
       "      <th>mean</th>\n",
       "      <td>0.459353</td>\n",
       "      <td>1996.489646</td>\n",
       "      <td>643.175949</td>\n",
       "      <td>0.124664</td>\n",
       "      <td>0.454067</td>\n",
       "      <td>9670.783997</td>\n",
       "      <td>3.944448</td>\n",
       "      <td>0.187764</td>\n",
       "      <td>5.770820</td>\n",
       "      <td>0.309138</td>\n",
       "      <td>0.056211</td>\n",
       "      <td>0.863663</td>\n",
       "      <td>9668.405454</td>\n",
       "      <td>0.692749</td>\n",
       "      <td>0.143092</td>\n",
       "      <td>1.576418</td>\n",
       "    </tr>\n",
       "    <tr>\n",
       "      <th>std</th>\n",
       "      <td>0.498347</td>\n",
       "      <td>7.748688</td>\n",
       "      <td>223.405357</td>\n",
       "      <td>0.596404</td>\n",
       "      <td>0.799628</td>\n",
       "      <td>34.099551</td>\n",
       "      <td>1.530657</td>\n",
       "      <td>0.522030</td>\n",
       "      <td>3.551835</td>\n",
       "      <td>0.462140</td>\n",
       "      <td>0.281136</td>\n",
       "      <td>0.343148</td>\n",
       "      <td>37.690959</td>\n",
       "      <td>0.779392</td>\n",
       "      <td>0.350168</td>\n",
       "      <td>1.227039</td>\n",
       "    </tr>\n",
       "    <tr>\n",
       "      <th>min</th>\n",
       "      <td>0.000000</td>\n",
       "      <td>1981.000000</td>\n",
       "      <td>0.000000</td>\n",
       "      <td>0.000000</td>\n",
       "      <td>0.000000</td>\n",
       "      <td>9590.000000</td>\n",
       "      <td>1.000000</td>\n",
       "      <td>0.000000</td>\n",
       "      <td>0.000000</td>\n",
       "      <td>0.000000</td>\n",
       "      <td>0.000000</td>\n",
       "      <td>0.000000</td>\n",
       "      <td>9590.000000</td>\n",
       "      <td>0.000000</td>\n",
       "      <td>0.000000</td>\n",
       "      <td>0.000000</td>\n",
       "    </tr>\n",
       "    <tr>\n",
       "      <th>25%</th>\n",
       "      <td>0.000000</td>\n",
       "      <td>1990.000000</td>\n",
       "      <td>491.000000</td>\n",
       "      <td>0.000000</td>\n",
       "      <td>0.000000</td>\n",
       "      <td>9672.000000</td>\n",
       "      <td>3.000000</td>\n",
       "      <td>0.000000</td>\n",
       "      <td>3.000000</td>\n",
       "      <td>0.000000</td>\n",
       "      <td>0.000000</td>\n",
       "      <td>1.000000</td>\n",
       "      <td>9670.000000</td>\n",
       "      <td>0.000000</td>\n",
       "      <td>0.000000</td>\n",
       "      <td>0.000000</td>\n",
       "    </tr>\n",
       "    <tr>\n",
       "      <th>50%</th>\n",
       "      <td>0.000000</td>\n",
       "      <td>1997.000000</td>\n",
       "      <td>772.000000</td>\n",
       "      <td>0.000000</td>\n",
       "      <td>0.000000</td>\n",
       "      <td>9680.000000</td>\n",
       "      <td>4.000000</td>\n",
       "      <td>0.000000</td>\n",
       "      <td>7.000000</td>\n",
       "      <td>0.000000</td>\n",
       "      <td>0.000000</td>\n",
       "      <td>1.000000</td>\n",
       "      <td>9680.000000</td>\n",
       "      <td>0.000000</td>\n",
       "      <td>0.000000</td>\n",
       "      <td>1.000000</td>\n",
       "    </tr>\n",
       "    <tr>\n",
       "      <th>75%</th>\n",
       "      <td>1.000000</td>\n",
       "      <td>2003.000000</td>\n",
       "      <td>778.000000</td>\n",
       "      <td>0.000000</td>\n",
       "      <td>1.000000</td>\n",
       "      <td>9690.000000</td>\n",
       "      <td>5.000000</td>\n",
       "      <td>0.000000</td>\n",
       "      <td>9.000000</td>\n",
       "      <td>1.000000</td>\n",
       "      <td>0.000000</td>\n",
       "      <td>1.000000</td>\n",
       "      <td>9691.000000</td>\n",
       "      <td>1.000000</td>\n",
       "      <td>0.000000</td>\n",
       "      <td>3.000000</td>\n",
       "    </tr>\n",
       "    <tr>\n",
       "      <th>max</th>\n",
       "      <td>1.000000</td>\n",
       "      <td>2008.000000</td>\n",
       "      <td>809.000000</td>\n",
       "      <td>7.000000</td>\n",
       "      <td>4.000000</td>\n",
       "      <td>9860.000000</td>\n",
       "      <td>6.000000</td>\n",
       "      <td>2.000000</td>\n",
       "      <td>9.000000</td>\n",
       "      <td>1.000000</td>\n",
       "      <td>2.000000</td>\n",
       "      <td>1.000000</td>\n",
       "      <td>9837.000000</td>\n",
       "      <td>2.000000</td>\n",
       "      <td>1.000000</td>\n",
       "      <td>3.000000</td>\n",
       "    </tr>\n",
       "  </tbody>\n",
       "</table>\n",
       "</div>"
      ],
      "text/plain": [
       "                 Sex  Year of diagnosis   Primary Site  \\\n",
       "count  119762.000000      119762.000000  119762.000000   \n",
       "mean        0.459353        1996.489646     643.175949   \n",
       "std         0.498347           7.748688     223.405357   \n",
       "min         0.000000        1981.000000       0.000000   \n",
       "25%         0.000000        1990.000000     491.000000   \n",
       "50%         0.000000        1997.000000     772.000000   \n",
       "75%         1.000000        2003.000000     778.000000   \n",
       "max         1.000000        2008.000000     809.000000   \n",
       "\n",
       "       Diagnostic Confirmation  Sequence number  Histology ICD-O-2  \\\n",
       "count            119762.000000    119762.000000      119762.000000   \n",
       "mean                  0.124664         0.454067        9670.783997   \n",
       "std                   0.596404         0.799628          34.099551   \n",
       "min                   0.000000         0.000000        9590.000000   \n",
       "25%                   0.000000         0.000000        9672.000000   \n",
       "50%                   0.000000         0.000000        9680.000000   \n",
       "75%                   0.000000         1.000000        9690.000000   \n",
       "max                   7.000000         4.000000        9860.000000   \n",
       "\n",
       "           Age group           Race         income           Site  \\\n",
       "count  119762.000000  119762.000000  119762.000000  119762.000000   \n",
       "mean        3.944448       0.187764       5.770820       0.309138   \n",
       "std         1.530657       0.522030       3.551835       0.462140   \n",
       "min         1.000000       0.000000       0.000000       0.000000   \n",
       "25%         3.000000       0.000000       3.000000       0.000000   \n",
       "50%         4.000000       0.000000       7.000000       0.000000   \n",
       "75%         5.000000       0.000000       9.000000       1.000000   \n",
       "max         6.000000       2.000000       9.000000       1.000000   \n",
       "\n",
       "                 TNM  Record number     Hist/behav        surgery  \\\n",
       "count  119762.000000  119762.000000  119762.000000  119762.000000   \n",
       "mean        0.056211       0.863663    9668.405454       0.692749   \n",
       "std         0.281136       0.343148      37.690959       0.779392   \n",
       "min         0.000000       0.000000    9590.000000       0.000000   \n",
       "25%         0.000000       1.000000    9670.000000       0.000000   \n",
       "50%         0.000000       1.000000    9680.000000       0.000000   \n",
       "75%         0.000000       1.000000    9691.000000       1.000000   \n",
       "max         2.000000       1.000000    9837.000000       2.000000   \n",
       "\n",
       "       First malignant  Survival months category  \n",
       "count    119762.000000             119762.000000  \n",
       "mean          0.143092                  1.576418  \n",
       "std           0.350168                  1.227039  \n",
       "min           0.000000                  0.000000  \n",
       "25%           0.000000                  0.000000  \n",
       "50%           0.000000                  1.000000  \n",
       "75%           0.000000                  3.000000  \n",
       "max           1.000000                  3.000000  "
      ]
     },
     "execution_count": 36,
     "metadata": {},
     "output_type": "execute_result"
    }
   ],
   "source": [
    "data.describe()"
   ]
  },
  {
   "cell_type": "markdown",
   "metadata": {
    "id": "yTLJNUH-L6sq"
   },
   "source": [
    "# **train and test split**"
   ]
  },
  {
   "cell_type": "code",
   "execution_count": 37,
   "metadata": {},
   "outputs": [],
   "source": [
    "def x_y_split(df):\n",
    "    y=df[\"Survival months category\"].to_frame()\n",
    "    x=df.drop(\"Survival months category\",1)\n",
    "    return x,y"
   ]
  },
  {
   "cell_type": "markdown",
   "metadata": {},
   "source": [
    "**Unified model**"
   ]
  },
  {
   "cell_type": "code",
   "execution_count": null,
   "metadata": {
    "id": "Cgwa_yKpRu-n"
   },
   "outputs": [],
   "source": [
    "traindf, testdf = train_test_split(data, test_size = 0.3)\n",
    "x_train, y_train=x_y_split(traindf)\n",
    "x_test, y_test=x_y_split(testdf)"
   ]
  },
  {
   "cell_type": "markdown",
   "metadata": {},
   "source": [
    "**Split model**"
   ]
  },
  {
   "cell_type": "code",
   "execution_count": 39,
   "metadata": {},
   "outputs": [],
   "source": [
    "age_group_1_train,age_group_1_test=train_test_split(data.loc[data['Age group'] == 1], test_size = 0.3)\n",
    "age_group_2_train,age_group_2_test=train_test_split(data.loc[data['Age group'] == 2], test_size = 0.3)\n",
    "age_group_3_train,age_group_3_test=train_test_split(data.loc[data['Age group'] == 3], test_size = 0.3)\n",
    "age_group_4_train,age_group_4_test=train_test_split(data.loc[data['Age group'] == 4], test_size = 0.3)\n",
    "age_group_5_train,age_group_5_test=train_test_split(data.loc[data['Age group'] == 5], test_size = 0.3)\n",
    "age_group_6_train,age_group_6_test=train_test_split(data.loc[data['Age group'] == 6], test_size = 0.3)"
   ]
  },
  {
   "cell_type": "code",
   "execution_count": 40,
   "metadata": {},
   "outputs": [
    {
     "data": {
      "text/html": [
       "<div>\n",
       "<style scoped>\n",
       "    .dataframe tbody tr th:only-of-type {\n",
       "        vertical-align: middle;\n",
       "    }\n",
       "\n",
       "    .dataframe tbody tr th {\n",
       "        vertical-align: top;\n",
       "    }\n",
       "\n",
       "    .dataframe thead th {\n",
       "        text-align: right;\n",
       "    }\n",
       "</style>\n",
       "<table border=\"1\" class=\"dataframe\">\n",
       "  <thead>\n",
       "    <tr style=\"text-align: right;\">\n",
       "      <th></th>\n",
       "      <th>Sex</th>\n",
       "      <th>Year of diagnosis</th>\n",
       "      <th>Primary Site</th>\n",
       "      <th>Diagnostic Confirmation</th>\n",
       "      <th>Sequence number</th>\n",
       "      <th>Histology ICD-O-2</th>\n",
       "      <th>Age group</th>\n",
       "      <th>Race</th>\n",
       "      <th>income</th>\n",
       "      <th>Site</th>\n",
       "      <th>TNM</th>\n",
       "      <th>Record number</th>\n",
       "      <th>Hist/behav</th>\n",
       "      <th>surgery</th>\n",
       "      <th>First malignant</th>\n",
       "      <th>Survival months category</th>\n",
       "    </tr>\n",
       "  </thead>\n",
       "  <tbody>\n",
       "    <tr>\n",
       "      <th>16132</th>\n",
       "      <td>1</td>\n",
       "      <td>2001</td>\n",
       "      <td>778</td>\n",
       "      <td>2</td>\n",
       "      <td>2.0</td>\n",
       "      <td>9680</td>\n",
       "      <td>6.0</td>\n",
       "      <td>2</td>\n",
       "      <td>9</td>\n",
       "      <td>0</td>\n",
       "      <td>0.0</td>\n",
       "      <td>0</td>\n",
       "      <td>9680</td>\n",
       "      <td>0</td>\n",
       "      <td>1</td>\n",
       "      <td>0.0</td>\n",
       "    </tr>\n",
       "    <tr>\n",
       "      <th>91652</th>\n",
       "      <td>0</td>\n",
       "      <td>2000</td>\n",
       "      <td>778</td>\n",
       "      <td>0</td>\n",
       "      <td>2.0</td>\n",
       "      <td>9680</td>\n",
       "      <td>6.0</td>\n",
       "      <td>0</td>\n",
       "      <td>6</td>\n",
       "      <td>0</td>\n",
       "      <td>0.0</td>\n",
       "      <td>0</td>\n",
       "      <td>9680</td>\n",
       "      <td>1</td>\n",
       "      <td>1</td>\n",
       "      <td>0.0</td>\n",
       "    </tr>\n",
       "    <tr>\n",
       "      <th>120575</th>\n",
       "      <td>0</td>\n",
       "      <td>2007</td>\n",
       "      <td>778</td>\n",
       "      <td>0</td>\n",
       "      <td>2.0</td>\n",
       "      <td>9680</td>\n",
       "      <td>6.0</td>\n",
       "      <td>0</td>\n",
       "      <td>3</td>\n",
       "      <td>0</td>\n",
       "      <td>0.0</td>\n",
       "      <td>0</td>\n",
       "      <td>9680</td>\n",
       "      <td>0</td>\n",
       "      <td>1</td>\n",
       "      <td>1.0</td>\n",
       "    </tr>\n",
       "    <tr>\n",
       "      <th>134693</th>\n",
       "      <td>0</td>\n",
       "      <td>1998</td>\n",
       "      <td>163</td>\n",
       "      <td>0</td>\n",
       "      <td>0.0</td>\n",
       "      <td>9695</td>\n",
       "      <td>6.0</td>\n",
       "      <td>0</td>\n",
       "      <td>4</td>\n",
       "      <td>1</td>\n",
       "      <td>0.0</td>\n",
       "      <td>1</td>\n",
       "      <td>9695</td>\n",
       "      <td>1</td>\n",
       "      <td>0</td>\n",
       "      <td>1.0</td>\n",
       "    </tr>\n",
       "    <tr>\n",
       "      <th>175826</th>\n",
       "      <td>0</td>\n",
       "      <td>1995</td>\n",
       "      <td>779</td>\n",
       "      <td>0</td>\n",
       "      <td>0.0</td>\n",
       "      <td>9590</td>\n",
       "      <td>6.0</td>\n",
       "      <td>0</td>\n",
       "      <td>6</td>\n",
       "      <td>0</td>\n",
       "      <td>0.0</td>\n",
       "      <td>1</td>\n",
       "      <td>9590</td>\n",
       "      <td>0</td>\n",
       "      <td>0</td>\n",
       "      <td>0.0</td>\n",
       "    </tr>\n",
       "    <tr>\n",
       "      <th>...</th>\n",
       "      <td>...</td>\n",
       "      <td>...</td>\n",
       "      <td>...</td>\n",
       "      <td>...</td>\n",
       "      <td>...</td>\n",
       "      <td>...</td>\n",
       "      <td>...</td>\n",
       "      <td>...</td>\n",
       "      <td>...</td>\n",
       "      <td>...</td>\n",
       "      <td>...</td>\n",
       "      <td>...</td>\n",
       "      <td>...</td>\n",
       "      <td>...</td>\n",
       "      <td>...</td>\n",
       "      <td>...</td>\n",
       "    </tr>\n",
       "    <tr>\n",
       "      <th>77629</th>\n",
       "      <td>0</td>\n",
       "      <td>1996</td>\n",
       "      <td>443</td>\n",
       "      <td>0</td>\n",
       "      <td>2.0</td>\n",
       "      <td>9700</td>\n",
       "      <td>6.0</td>\n",
       "      <td>0</td>\n",
       "      <td>9</td>\n",
       "      <td>1</td>\n",
       "      <td>1.0</td>\n",
       "      <td>0</td>\n",
       "      <td>9700</td>\n",
       "      <td>2</td>\n",
       "      <td>1</td>\n",
       "      <td>1.0</td>\n",
       "    </tr>\n",
       "    <tr>\n",
       "      <th>43878</th>\n",
       "      <td>1</td>\n",
       "      <td>1984</td>\n",
       "      <td>779</td>\n",
       "      <td>0</td>\n",
       "      <td>0.0</td>\n",
       "      <td>9680</td>\n",
       "      <td>6.0</td>\n",
       "      <td>0</td>\n",
       "      <td>0</td>\n",
       "      <td>0</td>\n",
       "      <td>0.0</td>\n",
       "      <td>1</td>\n",
       "      <td>9680</td>\n",
       "      <td>0</td>\n",
       "      <td>0</td>\n",
       "      <td>0.0</td>\n",
       "    </tr>\n",
       "    <tr>\n",
       "      <th>132510</th>\n",
       "      <td>1</td>\n",
       "      <td>1995</td>\n",
       "      <td>696</td>\n",
       "      <td>0</td>\n",
       "      <td>0.0</td>\n",
       "      <td>9675</td>\n",
       "      <td>6.0</td>\n",
       "      <td>0</td>\n",
       "      <td>4</td>\n",
       "      <td>1</td>\n",
       "      <td>2.0</td>\n",
       "      <td>1</td>\n",
       "      <td>9675</td>\n",
       "      <td>0</td>\n",
       "      <td>0</td>\n",
       "      <td>2.0</td>\n",
       "    </tr>\n",
       "    <tr>\n",
       "      <th>134628</th>\n",
       "      <td>0</td>\n",
       "      <td>2007</td>\n",
       "      <td>79</td>\n",
       "      <td>0</td>\n",
       "      <td>2.0</td>\n",
       "      <td>9680</td>\n",
       "      <td>6.0</td>\n",
       "      <td>0</td>\n",
       "      <td>2</td>\n",
       "      <td>1</td>\n",
       "      <td>0.0</td>\n",
       "      <td>0</td>\n",
       "      <td>9699</td>\n",
       "      <td>1</td>\n",
       "      <td>1</td>\n",
       "      <td>1.0</td>\n",
       "    </tr>\n",
       "    <tr>\n",
       "      <th>122138</th>\n",
       "      <td>1</td>\n",
       "      <td>1995</td>\n",
       "      <td>773</td>\n",
       "      <td>0</td>\n",
       "      <td>2.0</td>\n",
       "      <td>9711</td>\n",
       "      <td>6.0</td>\n",
       "      <td>0</td>\n",
       "      <td>5</td>\n",
       "      <td>0</td>\n",
       "      <td>0.0</td>\n",
       "      <td>0</td>\n",
       "      <td>9699</td>\n",
       "      <td>0</td>\n",
       "      <td>1</td>\n",
       "      <td>1.0</td>\n",
       "    </tr>\n",
       "  </tbody>\n",
       "</table>\n",
       "<p>6150 rows × 16 columns</p>\n",
       "</div>"
      ],
      "text/plain": [
       "        Sex  Year of diagnosis  Primary Site  Diagnostic Confirmation  \\\n",
       "16132     1               2001           778                        2   \n",
       "91652     0               2000           778                        0   \n",
       "120575    0               2007           778                        0   \n",
       "134693    0               1998           163                        0   \n",
       "175826    0               1995           779                        0   \n",
       "...     ...                ...           ...                      ...   \n",
       "77629     0               1996           443                        0   \n",
       "43878     1               1984           779                        0   \n",
       "132510    1               1995           696                        0   \n",
       "134628    0               2007            79                        0   \n",
       "122138    1               1995           773                        0   \n",
       "\n",
       "        Sequence number  Histology ICD-O-2  Age group  Race  income  Site  \\\n",
       "16132               2.0               9680        6.0     2       9     0   \n",
       "91652               2.0               9680        6.0     0       6     0   \n",
       "120575              2.0               9680        6.0     0       3     0   \n",
       "134693              0.0               9695        6.0     0       4     1   \n",
       "175826              0.0               9590        6.0     0       6     0   \n",
       "...                 ...                ...        ...   ...     ...   ...   \n",
       "77629               2.0               9700        6.0     0       9     1   \n",
       "43878               0.0               9680        6.0     0       0     0   \n",
       "132510              0.0               9675        6.0     0       4     1   \n",
       "134628              2.0               9680        6.0     0       2     1   \n",
       "122138              2.0               9711        6.0     0       5     0   \n",
       "\n",
       "        TNM  Record number  Hist/behav  surgery  First malignant  \\\n",
       "16132   0.0              0        9680        0                1   \n",
       "91652   0.0              0        9680        1                1   \n",
       "120575  0.0              0        9680        0                1   \n",
       "134693  0.0              1        9695        1                0   \n",
       "175826  0.0              1        9590        0                0   \n",
       "...     ...            ...         ...      ...              ...   \n",
       "77629   1.0              0        9700        2                1   \n",
       "43878   0.0              1        9680        0                0   \n",
       "132510  2.0              1        9675        0                0   \n",
       "134628  0.0              0        9699        1                1   \n",
       "122138  0.0              0        9699        0                1   \n",
       "\n",
       "        Survival months category  \n",
       "16132                        0.0  \n",
       "91652                        0.0  \n",
       "120575                       1.0  \n",
       "134693                       1.0  \n",
       "175826                       0.0  \n",
       "...                          ...  \n",
       "77629                        1.0  \n",
       "43878                        0.0  \n",
       "132510                       2.0  \n",
       "134628                       1.0  \n",
       "122138                       1.0  \n",
       "\n",
       "[6150 rows x 16 columns]"
      ]
     },
     "execution_count": 40,
     "metadata": {},
     "output_type": "execute_result"
    }
   ],
   "source": [
    "age_group_6_test"
   ]
  },
  {
   "cell_type": "markdown",
   "metadata": {
    "id": "z8zP5jAVOGHk"
   },
   "source": [
    "# **Data visualization**"
   ]
  },
  {
   "cell_type": "code",
   "execution_count": 41,
   "metadata": {},
   "outputs": [
    {
     "data": {
      "image/png": "[encoded data removed]",
      "text/plain": [
       "<Figure size 432x288 with 1 Axes>"
      ]
     },
     "metadata": {},
     "output_type": "display_data"
    }
   ],
   "source": [
    "sns.set_theme(style=\"darkgrid\")\n",
    "ax = sns.countplot(x='Survival months category',hue=\"Sex\", data=traindf)"
   ]
  },
  {
   "cell_type": "code",
   "execution_count": 42,
   "metadata": {},
   "outputs": [
    {
     "data": {
      "image/png": "[encoded data removed]",
      "text/plain": [
       "<Figure size 432x288 with 1 Axes>"
      ]
     },
     "metadata": {},
     "output_type": "display_data"
    }
   ],
   "source": [
    "ax = sns.countplot(x='Survival months category',hue=\"Sex\", data=testdf)"
   ]
  },
  {
   "cell_type": "code",
   "execution_count": 43,
   "metadata": {},
   "outputs": [
    {
     "data": {
      "image/png": "[encoded data removed]",
      "text/plain": [
       "<Figure size 432x288 with 2 Axes>"
      ]
     },
     "metadata": {},
     "output_type": "display_data"
    }
   ],
   "source": [
    "ax = sns.heatmap(data.corr(), annot=True)"
   ]
  },
  {
   "cell_type": "markdown",
   "metadata": {
    "id": "KdJGh1vqV27S"
   },
   "source": [
    "# **Model Classification**\n",
    "Generic function for making a classification model and accessing the performance. \n",
    "From AnalyticsVidhya tutorial"
   ]
  },
  {
   "cell_type": "markdown",
   "metadata": {},
   "source": [
    "## generic functions"
   ]
  },
  {
   "cell_type": "code",
   "execution_count": 44,
   "metadata": {
    "id": "589z0WCBV2sS"
   },
   "outputs": [],
   "source": [
    "def classification_model(model, traindf ,testdf):\n",
    "    accuracy_dic={}\n",
    "    x_train, y_train=x_y_split(traindf)\n",
    "    x_test, y_test=x_y_split(testdf)\n",
    "\n",
    "    #Fit the model:\n",
    "    model.fit(x_train, y_train)\n",
    "    #Make predictions on training set:\n",
    "    predictions = model.predict(x_train)\n",
    "    #Print accuracy\n",
    "    predictions=predictions.A\n",
    "    accuracy = metrics.accuracy_score(predictions, y_train)\n",
    "    accuracy_dic['Accuracy (training)']=accuracy\n",
    "\n",
    "    #Perform k-fold cross-validation with 5 folds\n",
    "    kf=KFold(n_splits=5)\n",
    "    error = []\n",
    "    i=1\n",
    "    for train, test in kf.split(x_train):\n",
    "        # Filter training data\n",
    "        X_train, X_test = x_train.iloc[train,:], x_train.iloc[test,:]\n",
    "        Y_train , Y_test = y_train.iloc[train,:], y_train.iloc[test,:]\n",
    "        \n",
    "        # Training the algorithm.\n",
    "        model.fit(X_train, Y_train)\n",
    "\n",
    "        predictions = model.predict(X_test)\n",
    "        predictions=predictions.A\n",
    "        \n",
    "        #Record error from each cross-validation run\n",
    "        \n",
    "        accuracy = metrics.accuracy_score(predictions, Y_test)\n",
    "        error.append(accuracy)\n",
    " \n",
    "        #Record error from each cross-validation run\n",
    "        iter='Cross-Validation Score '+str(i)\n",
    "        accuracy_dic[iter]=np.mean(error)\n",
    "        i+=1\n",
    "    \n",
    "    #Fit the model again so that it can be refered outside the function:\n",
    "    model.fit(x_train,y_train) \n",
    "\n",
    "    #Make predictions on test set\n",
    "    predictions = model.predict(x_test)\n",
    " \n",
    "    #Print accuracy\n",
    "    predictions=predictions.A\n",
    "    accuracy = metrics.accuracy_score(predictions, y_test)\n",
    "    accuracy_dic[\"Accuracy (test)\"]=accuracy\n",
    "\n",
    "    \n",
    "    accuracy_df=pd.DataFrame([accuracy_dic])\n",
    "    return accuracy_df"
   ]
  },
  {
   "cell_type": "code",
   "execution_count": 45,
   "metadata": {},
   "outputs": [],
   "source": [
    "def classification_model_xgboost(model, traindf ,testdf):\n",
    "    accuracy_dic={}\n",
    "    x_train, y_train=x_y_split(traindf)\n",
    "    x_test, y_test=x_y_split(testdf)\n",
    "\n",
    "    #Fit the model:\n",
    "    model.fit(x_train, y_train)\n",
    "    #Make predictions on training set:\n",
    "    predictions = model.predict(x_train)\n",
    "    #Print accuracy\n",
    "    accuracy = metrics.accuracy_score(predictions, y_train)\n",
    "    accuracy_dic['Accuracy (training)']=accuracy\n",
    "\n",
    "    #Perform k-fold cross-validation with 5 folds\n",
    "    kf=KFold(n_splits=5)\n",
    "    error = []\n",
    "    i=1\n",
    "    for train, test in kf.split(x_train):\n",
    "        # Filter training data\n",
    "        X_train, X_test = x_train.iloc[train,:], x_train.iloc[test,:]\n",
    "        Y_train , Y_test = y_train.iloc[train,:], y_train.iloc[test,:]\n",
    "        \n",
    "        # Training the algorithm.\n",
    "        model.fit(X_train, Y_train)\n",
    "\n",
    "        predictions = model.predict(X_test)\n",
    "\n",
    "        #Record error from each cross-validation run\n",
    "        \n",
    "        accuracy = metrics.accuracy_score(predictions, Y_test)\n",
    "        error.append(accuracy)\n",
    " \n",
    "        #Record error from each cross-validation run\n",
    "        iter='Cross-Validation Score '+str(i)\n",
    "        accuracy_dic[iter]=np.mean(error)\n",
    "        i+=1\n",
    "       \n",
    "    \n",
    "    #Fit the model again so that it can be refered outside the function:\n",
    "    model.fit(x_train,y_train) \n",
    "\n",
    "    #Make predictions on test set\n",
    "    predictions = model.predict(x_test)\n",
    " \n",
    "    #Print accuracy\n",
    "    accuracy = metrics.accuracy_score(predictions, y_test)\n",
    "    accuracy_dic[\"Accuracy (test)\"]=accuracy\n",
    "    \n",
    "    accuracy_df=pd.DataFrame([accuracy_dic])\n",
    "    return accuracy_df"
   ]
  },
  {
   "cell_type": "code",
   "execution_count": 46,
   "metadata": {},
   "outputs": [],
   "source": [
    "def classification(traindf ,testdf):\n",
    "    score=pd.DataFrame()\n",
    "    #OneVsRest\n",
    "    #Binary Relevance\n",
    "    # initialize binary relevance multi-label classifier\n",
    "    # with a gaussian naive bayes base classifier\n",
    "    classifier = BinaryRelevance(GaussianNB())\n",
    "    acu=classification_model(classifier, traindf ,testdf)\n",
    "    acu.insert(loc=0, column='classifier', value=['GaussianNB'])\n",
    "    score=pd.concat([score,acu],ignore_index = True, axis = 0)\n",
    "\n",
    "    # using classifier chains\n",
    "    # initialize classifier chains multi-label classifier\n",
    "    classifier = ClassifierChain(LogisticRegression())\n",
    "    acu=classification_model(classifier, traindf ,testdf)\n",
    "    acu.insert(loc=0, column='classifier', value=['LogisticRegression-Classifier Chains '])\n",
    "    score=pd.concat([score,acu],ignore_index = True, axis = 0)\n",
    "\n",
    "    # initialize binary relevance multi-label classifier\n",
    "    # with a gaussian naive bayes base classifier\n",
    "    classifier = ClassifierChain(\n",
    "        classifier = SVC(),\n",
    "        require_dense = [False, True]\n",
    "    )\n",
    "    acu=classification_model(classifier, traindf ,testdf)\n",
    "    acu.insert(loc=0, column='classifier', value=['SVC'])\n",
    "    score=pd.concat([score,acu],ignore_index = True, axis = 0)\n",
    "\n",
    "    # using Label Powerset\n",
    "\n",
    "    # initialize label powerset multi-label classifier\n",
    "    classifier = LabelPowerset(LogisticRegression())\n",
    "    acu=classification_model(classifier, traindf ,testdf)\n",
    "    acu.insert(loc=0, column='classifier', value=['LogisticRegression-Label Powerset'])\n",
    "    score=pd.concat([score,acu],ignore_index = True, axis = 0)\n",
    "\n",
    "    # binari xgboost\n",
    "    classifier =  OneVsRestClassifier(XGBClassifier(objective='binary:logistic'))\n",
    "    acu=classification_model_xgboost(classifier, traindf ,testdf)\n",
    "    acu.insert(loc=0, column='classifier', value=['XGBClassifier- binary'])\n",
    "    score=pd.concat([score,acu],ignore_index = True, axis = 0)\n",
    "\n",
    "    # multy class xgboost\n",
    "    classifier =  XGBClassifier(objective='multi:softmax',num_classes=4)\n",
    "    acu=classification_model_xgboost(classifier, traindf ,testdf)\n",
    "    acu.insert(loc=0, column='classifier', value=['XGBClassifier- multi'])\n",
    "    score=pd.concat([score,acu],ignore_index = True, axis = 0)\n",
    "    return score\n",
    "\n"
   ]
  },
  {
   "cell_type": "markdown",
   "metadata": {},
   "source": [
    "## unified models"
   ]
  },
  {
   "cell_type": "code",
   "execution_count": null,
   "metadata": {},
   "outputs": [],
   "source": [
    "unified=classification(traindf ,testdf)\n",
    "unified.head(20)"
   ]
  },
  {
   "cell_type": "code",
   "execution_count": 48,
   "metadata": {},
   "outputs": [
    {
     "data": {
      "text/html": [
       "<div>\n",
       "<style scoped>\n",
       "    .dataframe tbody tr th:only-of-type {\n",
       "        vertical-align: middle;\n",
       "    }\n",
       "\n",
       "    .dataframe tbody tr th {\n",
       "        vertical-align: top;\n",
       "    }\n",
       "\n",
       "    .dataframe thead th {\n",
       "        text-align: right;\n",
       "    }\n",
       "</style>\n",
       "<table border=\"1\" class=\"dataframe\">\n",
       "  <thead>\n",
       "    <tr style=\"text-align: right;\">\n",
       "      <th></th>\n",
       "      <th>classifier</th>\n",
       "      <th>Accuracy (training)</th>\n",
       "      <th>Cross-Validation Score 1</th>\n",
       "      <th>Cross-Validation Score 2</th>\n",
       "      <th>Cross-Validation Score 3</th>\n",
       "      <th>Cross-Validation Score 4</th>\n",
       "      <th>Cross-Validation Score 5</th>\n",
       "      <th>Accuracy (test)</th>\n",
       "    </tr>\n",
       "  </thead>\n",
       "  <tbody>\n",
       "    <tr>\n",
       "      <th>0</th>\n",
       "      <td>GaussianNB</td>\n",
       "      <td>0.409004</td>\n",
       "      <td>0.406572</td>\n",
       "      <td>0.409912</td>\n",
       "      <td>0.408640</td>\n",
       "      <td>0.410649</td>\n",
       "      <td>0.408682</td>\n",
       "      <td>0.407721</td>\n",
       "    </tr>\n",
       "    <tr>\n",
       "      <th>1</th>\n",
       "      <td>LogisticRegression-Classifier Chains</td>\n",
       "      <td>0.395608</td>\n",
       "      <td>0.358979</td>\n",
       "      <td>0.376603</td>\n",
       "      <td>0.370708</td>\n",
       "      <td>0.369228</td>\n",
       "      <td>0.365560</td>\n",
       "      <td>0.396226</td>\n",
       "    </tr>\n",
       "    <tr>\n",
       "      <th>2</th>\n",
       "      <td>SVC</td>\n",
       "      <td>0.354956</td>\n",
       "      <td>0.356116</td>\n",
       "      <td>0.354148</td>\n",
       "      <td>0.354685</td>\n",
       "      <td>0.356614</td>\n",
       "      <td>0.354956</td>\n",
       "      <td>0.353753</td>\n",
       "    </tr>\n",
       "    <tr>\n",
       "      <th>3</th>\n",
       "      <td>LogisticRegression-Label Powerset</td>\n",
       "      <td>0.231615</td>\n",
       "      <td>0.227709</td>\n",
       "      <td>0.228544</td>\n",
       "      <td>0.227789</td>\n",
       "      <td>0.228428</td>\n",
       "      <td>0.229564</td>\n",
       "      <td>0.232820</td>\n",
       "    </tr>\n",
       "    <tr>\n",
       "      <th>4</th>\n",
       "      <td>XGBClassifier- binary</td>\n",
       "      <td>0.580905</td>\n",
       "      <td>0.525377</td>\n",
       "      <td>0.525705</td>\n",
       "      <td>0.522276</td>\n",
       "      <td>0.524118</td>\n",
       "      <td>0.523541</td>\n",
       "      <td>0.524256</td>\n",
       "    </tr>\n",
       "    <tr>\n",
       "      <th>5</th>\n",
       "      <td>XGBClassifier- multi</td>\n",
       "      <td>0.573211</td>\n",
       "      <td>0.523469</td>\n",
       "      <td>0.525288</td>\n",
       "      <td>0.522514</td>\n",
       "      <td>0.525370</td>\n",
       "      <td>0.524698</td>\n",
       "      <td>0.524173</td>\n",
       "    </tr>\n",
       "  </tbody>\n",
       "</table>\n",
       "</div>"
      ],
      "text/plain": [
       "                              classifier  Accuracy (training)  \\\n",
       "0                             GaussianNB             0.409004   \n",
       "1  LogisticRegression-Classifier Chains              0.395608   \n",
       "2                                    SVC             0.354956   \n",
       "3      LogisticRegression-Label Powerset             0.231615   \n",
       "4                  XGBClassifier- binary             0.580905   \n",
       "5                   XGBClassifier- multi             0.573211   \n",
       "\n",
       "   Cross-Validation Score 1  Cross-Validation Score 2  \\\n",
       "0                  0.406572                  0.409912   \n",
       "1                  0.358979                  0.376603   \n",
       "2                  0.356116                  0.354148   \n",
       "3                  0.227709                  0.228544   \n",
       "4                  0.525377                  0.525705   \n",
       "5                  0.523469                  0.525288   \n",
       "\n",
       "   Cross-Validation Score 3  Cross-Validation Score 4  \\\n",
       "0                  0.408640                  0.410649   \n",
       "1                  0.370708                  0.369228   \n",
       "2                  0.354685                  0.356614   \n",
       "3                  0.227789                  0.228428   \n",
       "4                  0.522276                  0.524118   \n",
       "5                  0.522514                  0.525370   \n",
       "\n",
       "   Cross-Validation Score 5  Accuracy (test)  \n",
       "0                  0.408682         0.407721  \n",
       "1                  0.365560         0.396226  \n",
       "2                  0.354956         0.353753  \n",
       "3                  0.229564         0.232820  \n",
       "4                  0.523541         0.524256  \n",
       "5                  0.524698         0.524173  "
      ]
     },
     "execution_count": 48,
     "metadata": {},
     "output_type": "execute_result"
    }
   ],
   "source": [
    "unified.head(20)"
   ]
  },
  {
   "cell_type": "markdown",
   "metadata": {},
   "source": [
    "## splitted models"
   ]
  },
  {
   "cell_type": "code",
   "execution_count": null,
   "metadata": {},
   "outputs": [],
   "source": [
    "g1=classification(age_group_1_train,age_group_1_test)"
   ]
  },
  {
   "cell_type": "code",
   "execution_count": 50,
   "metadata": {},
   "outputs": [
    {
     "data": {
      "text/html": [
       "<div>\n",
       "<style scoped>\n",
       "    .dataframe tbody tr th:only-of-type {\n",
       "        vertical-align: middle;\n",
       "    }\n",
       "\n",
       "    .dataframe tbody tr th {\n",
       "        vertical-align: top;\n",
       "    }\n",
       "\n",
       "    .dataframe thead th {\n",
       "        text-align: right;\n",
       "    }\n",
       "</style>\n",
       "<table border=\"1\" class=\"dataframe\">\n",
       "  <thead>\n",
       "    <tr style=\"text-align: right;\">\n",
       "      <th></th>\n",
       "      <th>classifier</th>\n",
       "      <th>Accuracy (training)</th>\n",
       "      <th>Cross-Validation Score 1</th>\n",
       "      <th>Cross-Validation Score 2</th>\n",
       "      <th>Cross-Validation Score 3</th>\n",
       "      <th>Cross-Validation Score 4</th>\n",
       "      <th>Cross-Validation Score 5</th>\n",
       "      <th>Accuracy (test)</th>\n",
       "    </tr>\n",
       "  </thead>\n",
       "  <tbody>\n",
       "    <tr>\n",
       "      <th>0</th>\n",
       "      <td>GaussianNB</td>\n",
       "      <td>0.557338</td>\n",
       "      <td>0.565938</td>\n",
       "      <td>0.547714</td>\n",
       "      <td>0.550475</td>\n",
       "      <td>0.549958</td>\n",
       "      <td>0.556014</td>\n",
       "      <td>0.559678</td>\n",
       "    </tr>\n",
       "    <tr>\n",
       "      <th>1</th>\n",
       "      <td>LogisticRegression-Classifier Chains</td>\n",
       "      <td>0.529100</td>\n",
       "      <td>0.536779</td>\n",
       "      <td>0.529490</td>\n",
       "      <td>0.527060</td>\n",
       "      <td>0.529579</td>\n",
       "      <td>0.530029</td>\n",
       "      <td>0.522573</td>\n",
       "    </tr>\n",
       "    <tr>\n",
       "      <th>2</th>\n",
       "      <td>SVC</td>\n",
       "      <td>0.527907</td>\n",
       "      <td>0.539430</td>\n",
       "      <td>0.530152</td>\n",
       "      <td>0.526397</td>\n",
       "      <td>0.527590</td>\n",
       "      <td>0.527907</td>\n",
       "      <td>0.525046</td>\n",
       "    </tr>\n",
       "    <tr>\n",
       "      <th>3</th>\n",
       "      <td>LogisticRegression-Label Powerset</td>\n",
       "      <td>0.195148</td>\n",
       "      <td>0.189529</td>\n",
       "      <td>0.174288</td>\n",
       "      <td>0.178706</td>\n",
       "      <td>0.177796</td>\n",
       "      <td>0.178178</td>\n",
       "      <td>0.199753</td>\n",
       "    </tr>\n",
       "    <tr>\n",
       "      <th>4</th>\n",
       "      <td>XGBClassifier- binary</td>\n",
       "      <td>0.802201</td>\n",
       "      <td>0.642810</td>\n",
       "      <td>0.640159</td>\n",
       "      <td>0.642810</td>\n",
       "      <td>0.641922</td>\n",
       "      <td>0.639399</td>\n",
       "      <td>0.647186</td>\n",
       "    </tr>\n",
       "    <tr>\n",
       "      <th>5</th>\n",
       "      <td>XGBClassifier- multi</td>\n",
       "      <td>0.798886</td>\n",
       "      <td>0.648111</td>\n",
       "      <td>0.642810</td>\n",
       "      <td>0.645461</td>\n",
       "      <td>0.646894</td>\n",
       "      <td>0.642051</td>\n",
       "      <td>0.643476</td>\n",
       "    </tr>\n",
       "  </tbody>\n",
       "</table>\n",
       "</div>"
      ],
      "text/plain": [
       "                              classifier  Accuracy (training)  \\\n",
       "0                             GaussianNB             0.557338   \n",
       "1  LogisticRegression-Classifier Chains              0.529100   \n",
       "2                                    SVC             0.527907   \n",
       "3      LogisticRegression-Label Powerset             0.195148   \n",
       "4                  XGBClassifier- binary             0.802201   \n",
       "5                   XGBClassifier- multi             0.798886   \n",
       "\n",
       "   Cross-Validation Score 1  Cross-Validation Score 2  \\\n",
       "0                  0.565938                  0.547714   \n",
       "1                  0.536779                  0.529490   \n",
       "2                  0.539430                  0.530152   \n",
       "3                  0.189529                  0.174288   \n",
       "4                  0.642810                  0.640159   \n",
       "5                  0.648111                  0.642810   \n",
       "\n",
       "   Cross-Validation Score 3  Cross-Validation Score 4  \\\n",
       "0                  0.550475                  0.549958   \n",
       "1                  0.527060                  0.529579   \n",
       "2                  0.526397                  0.527590   \n",
       "3                  0.178706                  0.177796   \n",
       "4                  0.642810                  0.641922   \n",
       "5                  0.645461                  0.646894   \n",
       "\n",
       "   Cross-Validation Score 5  Accuracy (test)  \n",
       "0                  0.556014         0.559678  \n",
       "1                  0.530029         0.522573  \n",
       "2                  0.527907         0.525046  \n",
       "3                  0.178178         0.199753  \n",
       "4                  0.639399         0.647186  \n",
       "5                  0.642051         0.643476  "
      ]
     },
     "execution_count": 50,
     "metadata": {},
     "output_type": "execute_result"
    }
   ],
   "source": [
    "g1.head(20)"
   ]
  },
  {
   "cell_type": "code",
   "execution_count": null,
   "metadata": {},
   "outputs": [],
   "source": [
    "g2=classification(age_group_2_train,age_group_2_test)"
   ]
  },
  {
   "cell_type": "code",
   "execution_count": 52,
   "metadata": {},
   "outputs": [
    {
     "data": {
      "text/html": [
       "<div>\n",
       "<style scoped>\n",
       "    .dataframe tbody tr th:only-of-type {\n",
       "        vertical-align: middle;\n",
       "    }\n",
       "\n",
       "    .dataframe tbody tr th {\n",
       "        vertical-align: top;\n",
       "    }\n",
       "\n",
       "    .dataframe thead th {\n",
       "        text-align: right;\n",
       "    }\n",
       "</style>\n",
       "<table border=\"1\" class=\"dataframe\">\n",
       "  <thead>\n",
       "    <tr style=\"text-align: right;\">\n",
       "      <th></th>\n",
       "      <th>classifier</th>\n",
       "      <th>Accuracy (training)</th>\n",
       "      <th>Cross-Validation Score 1</th>\n",
       "      <th>Cross-Validation Score 2</th>\n",
       "      <th>Cross-Validation Score 3</th>\n",
       "      <th>Cross-Validation Score 4</th>\n",
       "      <th>Cross-Validation Score 5</th>\n",
       "      <th>Accuracy (test)</th>\n",
       "    </tr>\n",
       "  </thead>\n",
       "  <tbody>\n",
       "    <tr>\n",
       "      <th>0</th>\n",
       "      <td>GaussianNB</td>\n",
       "      <td>0.542652</td>\n",
       "      <td>0.544662</td>\n",
       "      <td>0.545479</td>\n",
       "      <td>0.540850</td>\n",
       "      <td>0.538263</td>\n",
       "      <td>0.538948</td>\n",
       "      <td>0.550953</td>\n",
       "    </tr>\n",
       "    <tr>\n",
       "      <th>1</th>\n",
       "      <td>LogisticRegression-Classifier Chains</td>\n",
       "      <td>0.564550</td>\n",
       "      <td>0.560458</td>\n",
       "      <td>0.564542</td>\n",
       "      <td>0.559550</td>\n",
       "      <td>0.556781</td>\n",
       "      <td>0.562155</td>\n",
       "      <td>0.570775</td>\n",
       "    </tr>\n",
       "    <tr>\n",
       "      <th>2</th>\n",
       "      <td>SVC</td>\n",
       "      <td>0.562806</td>\n",
       "      <td>0.560458</td>\n",
       "      <td>0.564542</td>\n",
       "      <td>0.559550</td>\n",
       "      <td>0.557870</td>\n",
       "      <td>0.562809</td>\n",
       "      <td>0.568488</td>\n",
       "    </tr>\n",
       "    <tr>\n",
       "      <th>3</th>\n",
       "      <td>LogisticRegression-Label Powerset</td>\n",
       "      <td>0.165269</td>\n",
       "      <td>0.167756</td>\n",
       "      <td>0.162309</td>\n",
       "      <td>0.158678</td>\n",
       "      <td>0.156863</td>\n",
       "      <td>0.156553</td>\n",
       "      <td>0.164930</td>\n",
       "    </tr>\n",
       "    <tr>\n",
       "      <th>4</th>\n",
       "      <td>XGBClassifier- binary</td>\n",
       "      <td>0.770890</td>\n",
       "      <td>0.611656</td>\n",
       "      <td>0.619553</td>\n",
       "      <td>0.618918</td>\n",
       "      <td>0.618328</td>\n",
       "      <td>0.622292</td>\n",
       "      <td>0.636341</td>\n",
       "    </tr>\n",
       "    <tr>\n",
       "      <th>5</th>\n",
       "      <td>XGBClassifier- multi</td>\n",
       "      <td>0.765007</td>\n",
       "      <td>0.623638</td>\n",
       "      <td>0.625272</td>\n",
       "      <td>0.621641</td>\n",
       "      <td>0.619553</td>\n",
       "      <td>0.623381</td>\n",
       "      <td>0.634053</td>\n",
       "    </tr>\n",
       "  </tbody>\n",
       "</table>\n",
       "</div>"
      ],
      "text/plain": [
       "                              classifier  Accuracy (training)  \\\n",
       "0                             GaussianNB             0.542652   \n",
       "1  LogisticRegression-Classifier Chains              0.564550   \n",
       "2                                    SVC             0.562806   \n",
       "3      LogisticRegression-Label Powerset             0.165269   \n",
       "4                  XGBClassifier- binary             0.770890   \n",
       "5                   XGBClassifier- multi             0.765007   \n",
       "\n",
       "   Cross-Validation Score 1  Cross-Validation Score 2  \\\n",
       "0                  0.544662                  0.545479   \n",
       "1                  0.560458                  0.564542   \n",
       "2                  0.560458                  0.564542   \n",
       "3                  0.167756                  0.162309   \n",
       "4                  0.611656                  0.619553   \n",
       "5                  0.623638                  0.625272   \n",
       "\n",
       "   Cross-Validation Score 3  Cross-Validation Score 4  \\\n",
       "0                  0.540850                  0.538263   \n",
       "1                  0.559550                  0.556781   \n",
       "2                  0.559550                  0.557870   \n",
       "3                  0.158678                  0.156863   \n",
       "4                  0.618918                  0.618328   \n",
       "5                  0.621641                  0.619553   \n",
       "\n",
       "   Cross-Validation Score 5  Accuracy (test)  \n",
       "0                  0.538948         0.550953  \n",
       "1                  0.562155         0.570775  \n",
       "2                  0.562809         0.568488  \n",
       "3                  0.156553         0.164930  \n",
       "4                  0.622292         0.636341  \n",
       "5                  0.623381         0.634053  "
      ]
     },
     "execution_count": 52,
     "metadata": {},
     "output_type": "execute_result"
    }
   ],
   "source": [
    "g2.head(20)"
   ]
  },
  {
   "cell_type": "code",
   "execution_count": null,
   "metadata": {},
   "outputs": [],
   "source": [
    "g3=classification(age_group_3_train,age_group_3_test)"
   ]
  },
  {
   "cell_type": "code",
   "execution_count": 54,
   "metadata": {},
   "outputs": [
    {
     "data": {
      "text/html": [
       "<div>\n",
       "<style scoped>\n",
       "    .dataframe tbody tr th:only-of-type {\n",
       "        vertical-align: middle;\n",
       "    }\n",
       "\n",
       "    .dataframe tbody tr th {\n",
       "        vertical-align: top;\n",
       "    }\n",
       "\n",
       "    .dataframe thead th {\n",
       "        text-align: right;\n",
       "    }\n",
       "</style>\n",
       "<table border=\"1\" class=\"dataframe\">\n",
       "  <thead>\n",
       "    <tr style=\"text-align: right;\">\n",
       "      <th></th>\n",
       "      <th>classifier</th>\n",
       "      <th>Accuracy (training)</th>\n",
       "      <th>Cross-Validation Score 1</th>\n",
       "      <th>Cross-Validation Score 2</th>\n",
       "      <th>Cross-Validation Score 3</th>\n",
       "      <th>Cross-Validation Score 4</th>\n",
       "      <th>Cross-Validation Score 5</th>\n",
       "      <th>Accuracy (test)</th>\n",
       "    </tr>\n",
       "  </thead>\n",
       "  <tbody>\n",
       "    <tr>\n",
       "      <th>0</th>\n",
       "      <td>GaussianNB</td>\n",
       "      <td>0.482534</td>\n",
       "      <td>0.495376</td>\n",
       "      <td>0.493526</td>\n",
       "      <td>0.490873</td>\n",
       "      <td>0.485660</td>\n",
       "      <td>0.482903</td>\n",
       "      <td>0.468405</td>\n",
       "    </tr>\n",
       "    <tr>\n",
       "      <th>1</th>\n",
       "      <td>LogisticRegression-Classifier Chains</td>\n",
       "      <td>0.539446</td>\n",
       "      <td>0.535331</td>\n",
       "      <td>0.535516</td>\n",
       "      <td>0.541689</td>\n",
       "      <td>0.541814</td>\n",
       "      <td>0.539151</td>\n",
       "      <td>0.532631</td>\n",
       "    </tr>\n",
       "    <tr>\n",
       "      <th>2</th>\n",
       "      <td>SVC</td>\n",
       "      <td>0.539150</td>\n",
       "      <td>0.537551</td>\n",
       "      <td>0.535701</td>\n",
       "      <td>0.541319</td>\n",
       "      <td>0.541814</td>\n",
       "      <td>0.539151</td>\n",
       "      <td>0.534012</td>\n",
       "    </tr>\n",
       "    <tr>\n",
       "      <th>3</th>\n",
       "      <td>LogisticRegression-Label Powerset</td>\n",
       "      <td>0.179988</td>\n",
       "      <td>0.180170</td>\n",
       "      <td>0.180725</td>\n",
       "      <td>0.178959</td>\n",
       "      <td>0.178260</td>\n",
       "      <td>0.177693</td>\n",
       "      <td>0.176450</td>\n",
       "    </tr>\n",
       "    <tr>\n",
       "      <th>4</th>\n",
       "      <td>XGBClassifier- binary</td>\n",
       "      <td>0.703597</td>\n",
       "      <td>0.559009</td>\n",
       "      <td>0.561968</td>\n",
       "      <td>0.566602</td>\n",
       "      <td>0.564755</td>\n",
       "      <td>0.561353</td>\n",
       "      <td>0.565608</td>\n",
       "    </tr>\n",
       "    <tr>\n",
       "      <th>5</th>\n",
       "      <td>XGBClassifier- multi</td>\n",
       "      <td>0.695456</td>\n",
       "      <td>0.561598</td>\n",
       "      <td>0.565483</td>\n",
       "      <td>0.571412</td>\n",
       "      <td>0.568641</td>\n",
       "      <td>0.566015</td>\n",
       "      <td>0.569406</td>\n",
       "    </tr>\n",
       "  </tbody>\n",
       "</table>\n",
       "</div>"
      ],
      "text/plain": [
       "                              classifier  Accuracy (training)  \\\n",
       "0                             GaussianNB             0.482534   \n",
       "1  LogisticRegression-Classifier Chains              0.539446   \n",
       "2                                    SVC             0.539150   \n",
       "3      LogisticRegression-Label Powerset             0.179988   \n",
       "4                  XGBClassifier- binary             0.703597   \n",
       "5                   XGBClassifier- multi             0.695456   \n",
       "\n",
       "   Cross-Validation Score 1  Cross-Validation Score 2  \\\n",
       "0                  0.495376                  0.493526   \n",
       "1                  0.535331                  0.535516   \n",
       "2                  0.537551                  0.535701   \n",
       "3                  0.180170                  0.180725   \n",
       "4                  0.559009                  0.561968   \n",
       "5                  0.561598                  0.565483   \n",
       "\n",
       "   Cross-Validation Score 3  Cross-Validation Score 4  \\\n",
       "0                  0.490873                  0.485660   \n",
       "1                  0.541689                  0.541814   \n",
       "2                  0.541319                  0.541814   \n",
       "3                  0.178959                  0.178260   \n",
       "4                  0.566602                  0.564755   \n",
       "5                  0.571412                  0.568641   \n",
       "\n",
       "   Cross-Validation Score 5  Accuracy (test)  \n",
       "0                  0.482903         0.468405  \n",
       "1                  0.539151         0.532631  \n",
       "2                  0.539151         0.534012  \n",
       "3                  0.177693         0.176450  \n",
       "4                  0.561353         0.565608  \n",
       "5                  0.566015         0.569406  "
      ]
     },
     "execution_count": 54,
     "metadata": {},
     "output_type": "execute_result"
    }
   ],
   "source": [
    "g3.head(20)"
   ]
  },
  {
   "cell_type": "code",
   "execution_count": null,
   "metadata": {},
   "outputs": [],
   "source": [
    "g4=classification(age_group_4_train,age_group_4_test)"
   ]
  },
  {
   "cell_type": "code",
   "execution_count": 56,
   "metadata": {},
   "outputs": [
    {
     "data": {
      "text/html": [
       "<div>\n",
       "<style scoped>\n",
       "    .dataframe tbody tr th:only-of-type {\n",
       "        vertical-align: middle;\n",
       "    }\n",
       "\n",
       "    .dataframe tbody tr th {\n",
       "        vertical-align: top;\n",
       "    }\n",
       "\n",
       "    .dataframe thead th {\n",
       "        text-align: right;\n",
       "    }\n",
       "</style>\n",
       "<table border=\"1\" class=\"dataframe\">\n",
       "  <thead>\n",
       "    <tr style=\"text-align: right;\">\n",
       "      <th></th>\n",
       "      <th>classifier</th>\n",
       "      <th>Accuracy (training)</th>\n",
       "      <th>Cross-Validation Score 1</th>\n",
       "      <th>Cross-Validation Score 2</th>\n",
       "      <th>Cross-Validation Score 3</th>\n",
       "      <th>Cross-Validation Score 4</th>\n",
       "      <th>Cross-Validation Score 5</th>\n",
       "      <th>Accuracy (test)</th>\n",
       "    </tr>\n",
       "  </thead>\n",
       "  <tbody>\n",
       "    <tr>\n",
       "      <th>0</th>\n",
       "      <td>GaussianNB</td>\n",
       "      <td>0.389104</td>\n",
       "      <td>0.392265</td>\n",
       "      <td>0.393232</td>\n",
       "      <td>0.387201</td>\n",
       "      <td>0.384418</td>\n",
       "      <td>0.383799</td>\n",
       "      <td>0.384685</td>\n",
       "    </tr>\n",
       "    <tr>\n",
       "      <th>1</th>\n",
       "      <td>LogisticRegression-Classifier Chains</td>\n",
       "      <td>0.399602</td>\n",
       "      <td>0.406354</td>\n",
       "      <td>0.401934</td>\n",
       "      <td>0.398435</td>\n",
       "      <td>0.399130</td>\n",
       "      <td>0.399602</td>\n",
       "      <td>0.413304</td>\n",
       "    </tr>\n",
       "    <tr>\n",
       "      <th>2</th>\n",
       "      <td>SVC</td>\n",
       "      <td>0.397558</td>\n",
       "      <td>0.404972</td>\n",
       "      <td>0.400414</td>\n",
       "      <td>0.395488</td>\n",
       "      <td>0.396575</td>\n",
       "      <td>0.397558</td>\n",
       "      <td>0.410726</td>\n",
       "    </tr>\n",
       "    <tr>\n",
       "      <th>3</th>\n",
       "      <td>LogisticRegression-Label Powerset</td>\n",
       "      <td>0.229970</td>\n",
       "      <td>0.215193</td>\n",
       "      <td>0.226381</td>\n",
       "      <td>0.227716</td>\n",
       "      <td>0.229229</td>\n",
       "      <td>0.229915</td>\n",
       "      <td>0.225861</td>\n",
       "    </tr>\n",
       "    <tr>\n",
       "      <th>4</th>\n",
       "      <td>XGBClassifier- binary</td>\n",
       "      <td>0.624765</td>\n",
       "      <td>0.472928</td>\n",
       "      <td>0.476243</td>\n",
       "      <td>0.467035</td>\n",
       "      <td>0.467643</td>\n",
       "      <td>0.468726</td>\n",
       "      <td>0.465515</td>\n",
       "    </tr>\n",
       "    <tr>\n",
       "      <th>5</th>\n",
       "      <td>XGBClassifier- multi</td>\n",
       "      <td>0.612554</td>\n",
       "      <td>0.470994</td>\n",
       "      <td>0.473066</td>\n",
       "      <td>0.465470</td>\n",
       "      <td>0.468127</td>\n",
       "      <td>0.469224</td>\n",
       "      <td>0.470672</td>\n",
       "    </tr>\n",
       "  </tbody>\n",
       "</table>\n",
       "</div>"
      ],
      "text/plain": [
       "                              classifier  Accuracy (training)  \\\n",
       "0                             GaussianNB             0.389104   \n",
       "1  LogisticRegression-Classifier Chains              0.399602   \n",
       "2                                    SVC             0.397558   \n",
       "3      LogisticRegression-Label Powerset             0.229970   \n",
       "4                  XGBClassifier- binary             0.624765   \n",
       "5                   XGBClassifier- multi             0.612554   \n",
       "\n",
       "   Cross-Validation Score 1  Cross-Validation Score 2  \\\n",
       "0                  0.392265                  0.393232   \n",
       "1                  0.406354                  0.401934   \n",
       "2                  0.404972                  0.400414   \n",
       "3                  0.215193                  0.226381   \n",
       "4                  0.472928                  0.476243   \n",
       "5                  0.470994                  0.473066   \n",
       "\n",
       "   Cross-Validation Score 3  Cross-Validation Score 4  \\\n",
       "0                  0.387201                  0.384418   \n",
       "1                  0.398435                  0.399130   \n",
       "2                  0.395488                  0.396575   \n",
       "3                  0.227716                  0.229229   \n",
       "4                  0.467035                  0.467643   \n",
       "5                  0.465470                  0.468127   \n",
       "\n",
       "   Cross-Validation Score 5  Accuracy (test)  \n",
       "0                  0.383799         0.384685  \n",
       "1                  0.399602         0.413304  \n",
       "2                  0.397558         0.410726  \n",
       "3                  0.229915         0.225861  \n",
       "4                  0.468726         0.465515  \n",
       "5                  0.469224         0.470672  "
      ]
     },
     "execution_count": 56,
     "metadata": {},
     "output_type": "execute_result"
    }
   ],
   "source": [
    "g4.head(20)"
   ]
  },
  {
   "cell_type": "code",
   "execution_count": null,
   "metadata": {},
   "outputs": [],
   "source": [
    "g5=classification(age_group_5_train,age_group_5_test)"
   ]
  },
  {
   "cell_type": "code",
   "execution_count": 58,
   "metadata": {},
   "outputs": [
    {
     "data": {
      "text/html": [
       "<div>\n",
       "<style scoped>\n",
       "    .dataframe tbody tr th:only-of-type {\n",
       "        vertical-align: middle;\n",
       "    }\n",
       "\n",
       "    .dataframe tbody tr th {\n",
       "        vertical-align: top;\n",
       "    }\n",
       "\n",
       "    .dataframe thead th {\n",
       "        text-align: right;\n",
       "    }\n",
       "</style>\n",
       "<table border=\"1\" class=\"dataframe\">\n",
       "  <thead>\n",
       "    <tr style=\"text-align: right;\">\n",
       "      <th></th>\n",
       "      <th>classifier</th>\n",
       "      <th>Accuracy (training)</th>\n",
       "      <th>Cross-Validation Score 1</th>\n",
       "      <th>Cross-Validation Score 2</th>\n",
       "      <th>Cross-Validation Score 3</th>\n",
       "      <th>Cross-Validation Score 4</th>\n",
       "      <th>Cross-Validation Score 5</th>\n",
       "      <th>Accuracy (test)</th>\n",
       "    </tr>\n",
       "  </thead>\n",
       "  <tbody>\n",
       "    <tr>\n",
       "      <th>0</th>\n",
       "      <td>GaussianNB</td>\n",
       "      <td>0.332971</td>\n",
       "      <td>0.326714</td>\n",
       "      <td>0.330496</td>\n",
       "      <td>0.332545</td>\n",
       "      <td>0.335047</td>\n",
       "      <td>0.331835</td>\n",
       "      <td>0.326641</td>\n",
       "    </tr>\n",
       "    <tr>\n",
       "      <th>1</th>\n",
       "      <td>LogisticRegression-Classifier Chains</td>\n",
       "      <td>0.319306</td>\n",
       "      <td>0.326241</td>\n",
       "      <td>0.317967</td>\n",
       "      <td>0.315209</td>\n",
       "      <td>0.317790</td>\n",
       "      <td>0.316279</td>\n",
       "      <td>0.314727</td>\n",
       "    </tr>\n",
       "    <tr>\n",
       "      <th>2</th>\n",
       "      <td>SVC</td>\n",
       "      <td>0.303702</td>\n",
       "      <td>0.312530</td>\n",
       "      <td>0.308392</td>\n",
       "      <td>0.306068</td>\n",
       "      <td>0.308156</td>\n",
       "      <td>0.304978</td>\n",
       "      <td>0.299393</td>\n",
       "    </tr>\n",
       "    <tr>\n",
       "      <th>3</th>\n",
       "      <td>LogisticRegression-Label Powerset</td>\n",
       "      <td>0.272117</td>\n",
       "      <td>0.271631</td>\n",
       "      <td>0.277660</td>\n",
       "      <td>0.274153</td>\n",
       "      <td>0.271868</td>\n",
       "      <td>0.271266</td>\n",
       "      <td>0.283177</td>\n",
       "    </tr>\n",
       "    <tr>\n",
       "      <th>4</th>\n",
       "      <td>XGBClassifier- binary</td>\n",
       "      <td>0.591234</td>\n",
       "      <td>0.411111</td>\n",
       "      <td>0.400827</td>\n",
       "      <td>0.401891</td>\n",
       "      <td>0.401537</td>\n",
       "      <td>0.401532</td>\n",
       "      <td>0.412245</td>\n",
       "    </tr>\n",
       "    <tr>\n",
       "      <th>5</th>\n",
       "      <td>XGBClassifier- multi</td>\n",
       "      <td>0.581162</td>\n",
       "      <td>0.405437</td>\n",
       "      <td>0.400827</td>\n",
       "      <td>0.401970</td>\n",
       "      <td>0.402069</td>\n",
       "      <td>0.403424</td>\n",
       "      <td>0.413458</td>\n",
       "    </tr>\n",
       "  </tbody>\n",
       "</table>\n",
       "</div>"
      ],
      "text/plain": [
       "                              classifier  Accuracy (training)  \\\n",
       "0                             GaussianNB             0.332971   \n",
       "1  LogisticRegression-Classifier Chains              0.319306   \n",
       "2                                    SVC             0.303702   \n",
       "3      LogisticRegression-Label Powerset             0.272117   \n",
       "4                  XGBClassifier- binary             0.591234   \n",
       "5                   XGBClassifier- multi             0.581162   \n",
       "\n",
       "   Cross-Validation Score 1  Cross-Validation Score 2  \\\n",
       "0                  0.326714                  0.330496   \n",
       "1                  0.326241                  0.317967   \n",
       "2                  0.312530                  0.308392   \n",
       "3                  0.271631                  0.277660   \n",
       "4                  0.411111                  0.400827   \n",
       "5                  0.405437                  0.400827   \n",
       "\n",
       "   Cross-Validation Score 3  Cross-Validation Score 4  \\\n",
       "0                  0.332545                  0.335047   \n",
       "1                  0.315209                  0.317790   \n",
       "2                  0.306068                  0.308156   \n",
       "3                  0.274153                  0.271868   \n",
       "4                  0.401891                  0.401537   \n",
       "5                  0.401970                  0.402069   \n",
       "\n",
       "   Cross-Validation Score 5  Accuracy (test)  \n",
       "0                  0.331835         0.326641  \n",
       "1                  0.316279         0.314727  \n",
       "2                  0.304978         0.299393  \n",
       "3                  0.271266         0.283177  \n",
       "4                  0.401532         0.412245  \n",
       "5                  0.403424         0.413458  "
      ]
     },
     "execution_count": 58,
     "metadata": {},
     "output_type": "execute_result"
    }
   ],
   "source": [
    "g5.head(20)"
   ]
  },
  {
   "cell_type": "code",
   "execution_count": null,
   "metadata": {},
   "outputs": [],
   "source": [
    "g6=classification(age_group_6_train,age_group_6_test)"
   ]
  },
  {
   "cell_type": "code",
   "execution_count": 60,
   "metadata": {},
   "outputs": [
    {
     "data": {
      "text/html": [
       "<div>\n",
       "<style scoped>\n",
       "    .dataframe tbody tr th:only-of-type {\n",
       "        vertical-align: middle;\n",
       "    }\n",
       "\n",
       "    .dataframe tbody tr th {\n",
       "        vertical-align: top;\n",
       "    }\n",
       "\n",
       "    .dataframe thead th {\n",
       "        text-align: right;\n",
       "    }\n",
       "</style>\n",
       "<table border=\"1\" class=\"dataframe\">\n",
       "  <thead>\n",
       "    <tr style=\"text-align: right;\">\n",
       "      <th></th>\n",
       "      <th>classifier</th>\n",
       "      <th>Accuracy (training)</th>\n",
       "      <th>Cross-Validation Score 1</th>\n",
       "      <th>Cross-Validation Score 2</th>\n",
       "      <th>Cross-Validation Score 3</th>\n",
       "      <th>Cross-Validation Score 4</th>\n",
       "      <th>Cross-Validation Score 5</th>\n",
       "      <th>Accuracy (test)</th>\n",
       "    </tr>\n",
       "  </thead>\n",
       "  <tbody>\n",
       "    <tr>\n",
       "      <th>0</th>\n",
       "      <td>GaussianNB</td>\n",
       "      <td>0.444034</td>\n",
       "      <td>0.454355</td>\n",
       "      <td>0.452613</td>\n",
       "      <td>0.448780</td>\n",
       "      <td>0.445857</td>\n",
       "      <td>0.441733</td>\n",
       "      <td>0.438862</td>\n",
       "    </tr>\n",
       "    <tr>\n",
       "      <th>1</th>\n",
       "      <td>LogisticRegression-Classifier Chains</td>\n",
       "      <td>0.473515</td>\n",
       "      <td>0.475610</td>\n",
       "      <td>0.473171</td>\n",
       "      <td>0.471080</td>\n",
       "      <td>0.472777</td>\n",
       "      <td>0.473516</td>\n",
       "      <td>0.469593</td>\n",
       "    </tr>\n",
       "    <tr>\n",
       "      <th>2</th>\n",
       "      <td>SVC</td>\n",
       "      <td>0.473585</td>\n",
       "      <td>0.475610</td>\n",
       "      <td>0.473171</td>\n",
       "      <td>0.471080</td>\n",
       "      <td>0.472777</td>\n",
       "      <td>0.473586</td>\n",
       "      <td>0.469593</td>\n",
       "    </tr>\n",
       "    <tr>\n",
       "      <th>3</th>\n",
       "      <td>LogisticRegression-Label Powerset</td>\n",
       "      <td>0.402635</td>\n",
       "      <td>0.410453</td>\n",
       "      <td>0.397735</td>\n",
       "      <td>0.403252</td>\n",
       "      <td>0.401864</td>\n",
       "      <td>0.397615</td>\n",
       "      <td>0.410894</td>\n",
       "    </tr>\n",
       "    <tr>\n",
       "      <th>4</th>\n",
       "      <td>XGBClassifier- binary</td>\n",
       "      <td>0.680583</td>\n",
       "      <td>0.508014</td>\n",
       "      <td>0.496864</td>\n",
       "      <td>0.502323</td>\n",
       "      <td>0.498474</td>\n",
       "      <td>0.497629</td>\n",
       "      <td>0.496748</td>\n",
       "    </tr>\n",
       "    <tr>\n",
       "      <th>5</th>\n",
       "      <td>XGBClassifier- multi</td>\n",
       "      <td>0.669222</td>\n",
       "      <td>0.507666</td>\n",
       "      <td>0.501568</td>\n",
       "      <td>0.504762</td>\n",
       "      <td>0.502482</td>\n",
       "      <td>0.502578</td>\n",
       "      <td>0.500813</td>\n",
       "    </tr>\n",
       "  </tbody>\n",
       "</table>\n",
       "</div>"
      ],
      "text/plain": [
       "                              classifier  Accuracy (training)  \\\n",
       "0                             GaussianNB             0.444034   \n",
       "1  LogisticRegression-Classifier Chains              0.473515   \n",
       "2                                    SVC             0.473585   \n",
       "3      LogisticRegression-Label Powerset             0.402635   \n",
       "4                  XGBClassifier- binary             0.680583   \n",
       "5                   XGBClassifier- multi             0.669222   \n",
       "\n",
       "   Cross-Validation Score 1  Cross-Validation Score 2  \\\n",
       "0                  0.454355                  0.452613   \n",
       "1                  0.475610                  0.473171   \n",
       "2                  0.475610                  0.473171   \n",
       "3                  0.410453                  0.397735   \n",
       "4                  0.508014                  0.496864   \n",
       "5                  0.507666                  0.501568   \n",
       "\n",
       "   Cross-Validation Score 3  Cross-Validation Score 4  \\\n",
       "0                  0.448780                  0.445857   \n",
       "1                  0.471080                  0.472777   \n",
       "2                  0.471080                  0.472777   \n",
       "3                  0.403252                  0.401864   \n",
       "4                  0.502323                  0.498474   \n",
       "5                  0.504762                  0.502482   \n",
       "\n",
       "   Cross-Validation Score 5  Accuracy (test)  \n",
       "0                  0.441733         0.438862  \n",
       "1                  0.473516         0.469593  \n",
       "2                  0.473586         0.469593  \n",
       "3                  0.397615         0.410894  \n",
       "4                  0.497629         0.496748  \n",
       "5                  0.502578         0.500813  "
      ]
     },
     "execution_count": 60,
     "metadata": {},
     "output_type": "execute_result"
    }
   ],
   "source": [
    "g6.head(20)"
   ]
  },
  {
   "cell_type": "markdown",
   "metadata": {},
   "source": [
    "**OneVsRest**"
   ]
  },
  {
   "cell_type": "markdown",
   "metadata": {},
   "source": [
    "**Binary Relevance**"
   ]
  },
  {
   "cell_type": "code",
   "execution_count": 61,
   "metadata": {},
   "outputs": [],
   "source": [
    "# # using binary relevance\n",
    "\n",
    "# # initialize binary relevance multi-label classifier\n",
    "# # with a gaussian naive bayes base classifier\n",
    "# classifier = BinaryRelevance(GaussianNB())\n",
    "# acu=classification_model(classifier, traindf ,testdf)\n",
    "# acu.insert(loc=0, column='classifier', value=['GaussianNB'])\n",
    "# score_unified=pd.concat([score_unified,acu],ignore_index = True, axis = 0)\n"
   ]
  },
  {
   "cell_type": "markdown",
   "metadata": {},
   "source": [
    "**Classifier Chains**"
   ]
  },
  {
   "cell_type": "code",
   "execution_count": 62,
   "metadata": {},
   "outputs": [],
   "source": [
    "# # using classifier chains\n",
    "\n",
    "# # initialize classifier chains multi-label classifier\n",
    "# classifier = ClassifierChain(LogisticRegression())\n",
    "# acu=classification_model(classifier, traindf ,testdf)\n",
    "# acu.insert(loc=0, column='classifier', value=['LogisticRegression-Classifier Chains '])\n",
    "# score_unified=pd.concat([score_unified,acu],ignore_index = True, axis = 0)"
   ]
  },
  {
   "cell_type": "code",
   "execution_count": 63,
   "metadata": {},
   "outputs": [],
   "source": [
    "# # initialize binary relevance multi-label classifier\n",
    "# # with a gaussian naive bayes base classifier\n",
    "# classifier = ClassifierChain(\n",
    "#     classifier = SVC(),\n",
    "#     require_dense = [False, True]\n",
    "# )\n",
    "# acu=classification_model(classifier, traindf ,testdf)\n",
    "# acu.insert(loc=0, column='classifier', value=['SVC'])\n",
    "# score_unified=pd.concat([score_unified,acu],ignore_index = True, axis = 0)"
   ]
  },
  {
   "cell_type": "markdown",
   "metadata": {},
   "source": [
    "**Label Powerset**"
   ]
  },
  {
   "cell_type": "code",
   "execution_count": 64,
   "metadata": {},
   "outputs": [],
   "source": [
    "# # using Label Powerset\n",
    "\n",
    "# # initialize label powerset multi-label classifier\n",
    "# classifier = LabelPowerset(LogisticRegression())\n",
    "\n",
    "# acu=classification_model(classifier, traindf ,testdf)\n",
    "# acu.insert(loc=0, column='classifier', value=['LogisticRegression-Label Powerset'])\n",
    "# score_unified=pd.concat([score_unified,acu],ignore_index = True, axis = 0)"
   ]
  },
  {
   "cell_type": "markdown",
   "metadata": {},
   "source": [
    "**XGBOOST**"
   ]
  },
  {
   "cell_type": "code",
   "execution_count": 65,
   "metadata": {},
   "outputs": [],
   "source": [
    "# classifier =  OneVsRestClassifier(XGBClassifier(objective='binary:logistic'))\n",
    "# acu=classification_model_xgboost(classifier, traindf ,testdf)\n",
    "# acu.insert(loc=0, column='classifier', value=['XGBClassifier- binary'])\n",
    "# score_unified=pd.concat([score_unified,acu],ignore_index = True, axis = 0)"
   ]
  },
  {
   "cell_type": "code",
   "execution_count": 66,
   "metadata": {},
   "outputs": [],
   "source": [
    "# classifier =  XGBClassifier(objective='multi:softmax',num_classes=4)\n",
    "# acu=classification_model_xgboost(classifier, traindf ,testdf)\n",
    "# acu.insert(loc=0, column='classifier', value=['XGBClassifier- multi'])\n",
    "# score_unified=pd.concat([score_unified,acu],ignore_index = True, axis = 0)"
   ]
  }
 ],
 "metadata": {
  "colab": {
   "collapsed_sections": [],
   "name": "sapirandesti.ipynb",
   "provenance": []
  },
  "kernelspec": {
   "display_name": "Python 3.9.13 64-bit (windows store)",
   "language": "python",
   "name": "python3"
  },
  "language_info": {
   "codemirror_mode": {
    "name": "ipython",
    "version": 3
   },
   "file_extension": ".py",
   "mimetype": "text/x-python",
   "name": "python",
   "nbconvert_exporter": "python",
   "pygments_lexer": "ipython3",
   "version": "3.9.13"
  },
  "vscode": {
   "interpreter": {
    "hash": "97767a7e37e21db0101ae648fb7796d5c3c335adf7932e563b6753d82679f353"
   }
  }
 },
 "nbformat": 4,
 "nbformat_minor": 1
}
